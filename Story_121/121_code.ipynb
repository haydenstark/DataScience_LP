{
 "cells": [
  {
   "cell_type": "code",
   "execution_count": 1,
   "metadata": {},
   "outputs": [],
   "source": [
    "import pandas as pd\n",
    "import numpy as np\n",
    "import matplotlib.pyplot as plt\n",
    "import seaborn as sns\n",
    "\n",
    "%matplotlib inline\n",
    "\n",
    "pd.options.mode.chained_assignment = None  # default='warn'"
   ]
  },
  {
   "cell_type": "code",
   "execution_count": 2,
   "metadata": {},
   "outputs": [
    {
     "data": {
      "text/html": [
       "<div>\n",
       "<style scoped>\n",
       "    .dataframe tbody tr th:only-of-type {\n",
       "        vertical-align: middle;\n",
       "    }\n",
       "\n",
       "    .dataframe tbody tr th {\n",
       "        vertical-align: top;\n",
       "    }\n",
       "\n",
       "    .dataframe thead th {\n",
       "        text-align: right;\n",
       "    }\n",
       "</style>\n",
       "<table border=\"1\" class=\"dataframe\">\n",
       "  <thead>\n",
       "    <tr style=\"text-align: right;\">\n",
       "      <th></th>\n",
       "      <th>App</th>\n",
       "      <th>Category</th>\n",
       "      <th>Rating</th>\n",
       "      <th>Reviews</th>\n",
       "      <th>Size</th>\n",
       "      <th>Installs</th>\n",
       "      <th>Type</th>\n",
       "      <th>Price</th>\n",
       "      <th>Content Rating</th>\n",
       "      <th>Genres</th>\n",
       "      <th>Last Updated</th>\n",
       "      <th>Current Ver</th>\n",
       "      <th>Android Ver</th>\n",
       "    </tr>\n",
       "  </thead>\n",
       "  <tbody>\n",
       "    <tr>\n",
       "      <th>0</th>\n",
       "      <td>Photo Editor &amp; Candy Camera &amp; Grid &amp; ScrapBook</td>\n",
       "      <td>ART_AND_DESIGN</td>\n",
       "      <td>4.1</td>\n",
       "      <td>159</td>\n",
       "      <td>19M</td>\n",
       "      <td>10000</td>\n",
       "      <td>Free</td>\n",
       "      <td>0.0</td>\n",
       "      <td>Everyone</td>\n",
       "      <td>Art &amp; Design</td>\n",
       "      <td>2018-01-07</td>\n",
       "      <td>1.0.0</td>\n",
       "      <td>4.0.3 and up</td>\n",
       "    </tr>\n",
       "    <tr>\n",
       "      <th>1</th>\n",
       "      <td>Coloring book moana</td>\n",
       "      <td>ART_AND_DESIGN</td>\n",
       "      <td>3.9</td>\n",
       "      <td>967</td>\n",
       "      <td>14M</td>\n",
       "      <td>500000</td>\n",
       "      <td>Free</td>\n",
       "      <td>0.0</td>\n",
       "      <td>Everyone</td>\n",
       "      <td>Art &amp; Design;Pretend Play</td>\n",
       "      <td>2018-01-15</td>\n",
       "      <td>2.0.0</td>\n",
       "      <td>4.0.3 and up</td>\n",
       "    </tr>\n",
       "    <tr>\n",
       "      <th>2</th>\n",
       "      <td>U Launcher Lite – FREE Live Cool Themes, Hide ...</td>\n",
       "      <td>ART_AND_DESIGN</td>\n",
       "      <td>4.7</td>\n",
       "      <td>87510</td>\n",
       "      <td>8.7M</td>\n",
       "      <td>5000000</td>\n",
       "      <td>Free</td>\n",
       "      <td>0.0</td>\n",
       "      <td>Everyone</td>\n",
       "      <td>Art &amp; Design</td>\n",
       "      <td>2018-08-01</td>\n",
       "      <td>1.2.4</td>\n",
       "      <td>4.0.3 and up</td>\n",
       "    </tr>\n",
       "    <tr>\n",
       "      <th>3</th>\n",
       "      <td>Sketch - Draw &amp; Paint</td>\n",
       "      <td>ART_AND_DESIGN</td>\n",
       "      <td>4.5</td>\n",
       "      <td>215644</td>\n",
       "      <td>25M</td>\n",
       "      <td>50000000</td>\n",
       "      <td>Free</td>\n",
       "      <td>0.0</td>\n",
       "      <td>Teen</td>\n",
       "      <td>Art &amp; Design</td>\n",
       "      <td>2018-06-08</td>\n",
       "      <td>Varies with device</td>\n",
       "      <td>4.2 and up</td>\n",
       "    </tr>\n",
       "    <tr>\n",
       "      <th>4</th>\n",
       "      <td>Pixel Draw - Number Art Coloring Book</td>\n",
       "      <td>ART_AND_DESIGN</td>\n",
       "      <td>4.3</td>\n",
       "      <td>967</td>\n",
       "      <td>2.8M</td>\n",
       "      <td>100000</td>\n",
       "      <td>Free</td>\n",
       "      <td>0.0</td>\n",
       "      <td>Everyone</td>\n",
       "      <td>Art &amp; Design;Creativity</td>\n",
       "      <td>2018-06-20</td>\n",
       "      <td>1.1</td>\n",
       "      <td>4.4 and up</td>\n",
       "    </tr>\n",
       "  </tbody>\n",
       "</table>\n",
       "</div>"
      ],
      "text/plain": [
       "                                                 App        Category  Rating  \\\n",
       "0     Photo Editor & Candy Camera & Grid & ScrapBook  ART_AND_DESIGN     4.1   \n",
       "1                                Coloring book moana  ART_AND_DESIGN     3.9   \n",
       "2  U Launcher Lite – FREE Live Cool Themes, Hide ...  ART_AND_DESIGN     4.7   \n",
       "3                              Sketch - Draw & Paint  ART_AND_DESIGN     4.5   \n",
       "4              Pixel Draw - Number Art Coloring Book  ART_AND_DESIGN     4.3   \n",
       "\n",
       "   Reviews  Size  Installs  Type  Price Content Rating  \\\n",
       "0      159   19M     10000  Free    0.0       Everyone   \n",
       "1      967   14M    500000  Free    0.0       Everyone   \n",
       "2    87510  8.7M   5000000  Free    0.0       Everyone   \n",
       "3   215644   25M  50000000  Free    0.0           Teen   \n",
       "4      967  2.8M    100000  Free    0.0       Everyone   \n",
       "\n",
       "                      Genres Last Updated         Current Ver   Android Ver  \n",
       "0               Art & Design   2018-01-07               1.0.0  4.0.3 and up  \n",
       "1  Art & Design;Pretend Play   2018-01-15               2.0.0  4.0.3 and up  \n",
       "2               Art & Design   2018-08-01               1.2.4  4.0.3 and up  \n",
       "3               Art & Design   2018-06-08  Varies with device    4.2 and up  \n",
       "4    Art & Design;Creativity   2018-06-20                 1.1    4.4 and up  "
      ]
     },
     "execution_count": 2,
     "metadata": {},
     "output_type": "execute_result"
    }
   ],
   "source": [
    "data = pd.read_csv('cleaned_googleplaystore.csv')\n",
    "data.head()"
   ]
  },
  {
   "cell_type": "code",
   "execution_count": 3,
   "metadata": {},
   "outputs": [
    {
     "data": {
      "text/plain": [
       "array(['ART_AND_DESIGN', 'AUTO_AND_VEHICLES', 'BEAUTY',\n",
       "       'BOOKS_AND_REFERENCE', 'BUSINESS', 'COMICS', 'COMMUNICATION',\n",
       "       'DATING', 'EDUCATION', 'ENTERTAINMENT', 'EVENTS', 'FINANCE',\n",
       "       'FOOD_AND_DRINK', 'HEALTH_AND_FITNESS', 'HOUSE_AND_HOME',\n",
       "       'LIBRARIES_AND_DEMO', 'LIFESTYLE', 'GAME', 'FAMILY', 'MEDICAL',\n",
       "       'SOCIAL', 'SHOPPING', 'PHOTOGRAPHY', 'SPORTS', 'TRAVEL_AND_LOCAL',\n",
       "       'TOOLS', 'PERSONALIZATION', 'PRODUCTIVITY', 'PARENTING', 'WEATHER',\n",
       "       'VIDEO_PLAYERS', 'NEWS_AND_MAGAZINES', 'MAPS_AND_NAVIGATION'],\n",
       "      dtype=object)"
      ]
     },
     "execution_count": 3,
     "metadata": {},
     "output_type": "execute_result"
    }
   ],
   "source": [
    "data.Category.unique()"
   ]
  },
  {
   "cell_type": "code",
   "execution_count": 4,
   "metadata": {},
   "outputs": [
    {
     "data": {
      "text/html": [
       "<div>\n",
       "<style scoped>\n",
       "    .dataframe tbody tr th:only-of-type {\n",
       "        vertical-align: middle;\n",
       "    }\n",
       "\n",
       "    .dataframe tbody tr th {\n",
       "        vertical-align: top;\n",
       "    }\n",
       "\n",
       "    .dataframe thead th {\n",
       "        text-align: right;\n",
       "    }\n",
       "</style>\n",
       "<table border=\"1\" class=\"dataframe\">\n",
       "  <thead>\n",
       "    <tr style=\"text-align: right;\">\n",
       "      <th></th>\n",
       "      <th>App</th>\n",
       "      <th>Category</th>\n",
       "      <th>Rating</th>\n",
       "      <th>Reviews</th>\n",
       "      <th>Size</th>\n",
       "      <th>Installs</th>\n",
       "      <th>Type</th>\n",
       "      <th>Price</th>\n",
       "      <th>Content Rating</th>\n",
       "      <th>Genres</th>\n",
       "      <th>Last Updated</th>\n",
       "      <th>Current Ver</th>\n",
       "      <th>Android Ver</th>\n",
       "    </tr>\n",
       "  </thead>\n",
       "  <tbody>\n",
       "    <tr>\n",
       "      <th>699</th>\n",
       "      <td>Duolingo: Learn Languages Free</td>\n",
       "      <td>EDUCATION</td>\n",
       "      <td>4.7</td>\n",
       "      <td>6289924</td>\n",
       "      <td>Varies with device</td>\n",
       "      <td>100000000</td>\n",
       "      <td>Free</td>\n",
       "      <td>0.0</td>\n",
       "      <td>Everyone</td>\n",
       "      <td>Education;Education</td>\n",
       "      <td>2018-08-01</td>\n",
       "      <td>Varies with device</td>\n",
       "      <td>Varies with device</td>\n",
       "    </tr>\n",
       "    <tr>\n",
       "      <th>700</th>\n",
       "      <td>TED</td>\n",
       "      <td>EDUCATION</td>\n",
       "      <td>4.6</td>\n",
       "      <td>181893</td>\n",
       "      <td>18M</td>\n",
       "      <td>10000000</td>\n",
       "      <td>Free</td>\n",
       "      <td>0.0</td>\n",
       "      <td>Everyone 10+</td>\n",
       "      <td>Education</td>\n",
       "      <td>2018-07-27</td>\n",
       "      <td>3.2.5</td>\n",
       "      <td>4.1 and up</td>\n",
       "    </tr>\n",
       "    <tr>\n",
       "      <th>701</th>\n",
       "      <td>English Communication - Learn English for Chin...</td>\n",
       "      <td>EDUCATION</td>\n",
       "      <td>4.7</td>\n",
       "      <td>2544</td>\n",
       "      <td>18M</td>\n",
       "      <td>100000</td>\n",
       "      <td>Free</td>\n",
       "      <td>0.0</td>\n",
       "      <td>Everyone</td>\n",
       "      <td>Education</td>\n",
       "      <td>2017-12-29</td>\n",
       "      <td>3.1</td>\n",
       "      <td>4.0 and up</td>\n",
       "    </tr>\n",
       "    <tr>\n",
       "      <th>702</th>\n",
       "      <td>Khan Academy</td>\n",
       "      <td>EDUCATION</td>\n",
       "      <td>4.6</td>\n",
       "      <td>85375</td>\n",
       "      <td>21M</td>\n",
       "      <td>5000000</td>\n",
       "      <td>Free</td>\n",
       "      <td>0.0</td>\n",
       "      <td>Everyone</td>\n",
       "      <td>Education</td>\n",
       "      <td>2018-07-27</td>\n",
       "      <td>5.0.0</td>\n",
       "      <td>4.1 and up</td>\n",
       "    </tr>\n",
       "    <tr>\n",
       "      <th>703</th>\n",
       "      <td>Learn English with Wlingua</td>\n",
       "      <td>EDUCATION</td>\n",
       "      <td>4.7</td>\n",
       "      <td>314299</td>\n",
       "      <td>3.3M</td>\n",
       "      <td>10000000</td>\n",
       "      <td>Free</td>\n",
       "      <td>0.0</td>\n",
       "      <td>Everyone</td>\n",
       "      <td>Education</td>\n",
       "      <td>2018-05-02</td>\n",
       "      <td>1.94.9</td>\n",
       "      <td>4.0 and up</td>\n",
       "    </tr>\n",
       "  </tbody>\n",
       "</table>\n",
       "</div>"
      ],
      "text/plain": [
       "                                                   App   Category  Rating  \\\n",
       "699                     Duolingo: Learn Languages Free  EDUCATION     4.7   \n",
       "700                                                TED  EDUCATION     4.6   \n",
       "701  English Communication - Learn English for Chin...  EDUCATION     4.7   \n",
       "702                                       Khan Academy  EDUCATION     4.6   \n",
       "703                         Learn English with Wlingua  EDUCATION     4.7   \n",
       "\n",
       "     Reviews                Size   Installs  Type  Price Content Rating  \\\n",
       "699  6289924  Varies with device  100000000  Free    0.0       Everyone   \n",
       "700   181893                 18M   10000000  Free    0.0   Everyone 10+   \n",
       "701     2544                 18M     100000  Free    0.0       Everyone   \n",
       "702    85375                 21M    5000000  Free    0.0       Everyone   \n",
       "703   314299                3.3M   10000000  Free    0.0       Everyone   \n",
       "\n",
       "                  Genres Last Updated         Current Ver         Android Ver  \n",
       "699  Education;Education   2018-08-01  Varies with device  Varies with device  \n",
       "700            Education   2018-07-27               3.2.5          4.1 and up  \n",
       "701            Education   2017-12-29                 3.1          4.0 and up  \n",
       "702            Education   2018-07-27               5.0.0          4.1 and up  \n",
       "703            Education   2018-05-02              1.94.9          4.0 and up  "
      ]
     },
     "execution_count": 4,
     "metadata": {},
     "output_type": "execute_result"
    }
   ],
   "source": [
    "edu = data[data.Category == 'EDUCATION']\n",
    "edu.head()"
   ]
  },
  {
   "cell_type": "code",
   "execution_count": 5,
   "metadata": {},
   "outputs": [
    {
     "data": {
      "text/html": [
       "<div>\n",
       "<style scoped>\n",
       "    .dataframe tbody tr th:only-of-type {\n",
       "        vertical-align: middle;\n",
       "    }\n",
       "\n",
       "    .dataframe tbody tr th {\n",
       "        vertical-align: top;\n",
       "    }\n",
       "\n",
       "    .dataframe thead th {\n",
       "        text-align: right;\n",
       "    }\n",
       "</style>\n",
       "<table border=\"1\" class=\"dataframe\">\n",
       "  <thead>\n",
       "    <tr style=\"text-align: right;\">\n",
       "      <th></th>\n",
       "      <th>App</th>\n",
       "      <th>Reviews</th>\n",
       "      <th>Installs</th>\n",
       "    </tr>\n",
       "  </thead>\n",
       "  <tbody>\n",
       "    <tr>\n",
       "      <th>699</th>\n",
       "      <td>Duolingo: Learn Languages Free</td>\n",
       "      <td>6289924</td>\n",
       "      <td>100000000</td>\n",
       "    </tr>\n",
       "    <tr>\n",
       "      <th>700</th>\n",
       "      <td>TED</td>\n",
       "      <td>181893</td>\n",
       "      <td>10000000</td>\n",
       "    </tr>\n",
       "    <tr>\n",
       "      <th>701</th>\n",
       "      <td>English Communication - Learn English for Chin...</td>\n",
       "      <td>2544</td>\n",
       "      <td>100000</td>\n",
       "    </tr>\n",
       "    <tr>\n",
       "      <th>702</th>\n",
       "      <td>Khan Academy</td>\n",
       "      <td>85375</td>\n",
       "      <td>5000000</td>\n",
       "    </tr>\n",
       "    <tr>\n",
       "      <th>703</th>\n",
       "      <td>Learn English with Wlingua</td>\n",
       "      <td>314299</td>\n",
       "      <td>10000000</td>\n",
       "    </tr>\n",
       "  </tbody>\n",
       "</table>\n",
       "</div>"
      ],
      "text/plain": [
       "                                                   App  Reviews   Installs\n",
       "699                     Duolingo: Learn Languages Free  6289924  100000000\n",
       "700                                                TED   181893   10000000\n",
       "701  English Communication - Learn English for Chin...     2544     100000\n",
       "702                                       Khan Academy    85375    5000000\n",
       "703                         Learn English with Wlingua   314299   10000000"
      ]
     },
     "execution_count": 5,
     "metadata": {},
     "output_type": "execute_result"
    }
   ],
   "source": [
    "edu = edu.drop(['Category','Rating','Size','Type','Price','Content Rating','Genres','Last Updated','Current Ver','Android Ver'], axis=1)\n",
    "edu.head()"
   ]
  },
  {
   "cell_type": "code",
   "execution_count": 6,
   "metadata": {},
   "outputs": [
    {
     "data": {
      "text/plain": [
       "156"
      ]
     },
     "execution_count": 6,
     "metadata": {},
     "output_type": "execute_result"
    }
   ],
   "source": [
    "len(edu)"
   ]
  },
  {
   "cell_type": "code",
   "execution_count": 7,
   "metadata": {},
   "outputs": [
    {
     "data": {
      "text/plain": [
       "<AxesSubplot:xlabel='Reviews', ylabel='Installs'>"
      ]
     },
     "execution_count": 7,
     "metadata": {},
     "output_type": "execute_result"
    },
    {
     "data": {
      "image/png": "[encoded data removed]",
      "text/plain": [
       "<Figure size 432x288 with 1 Axes>"
      ]
     },
     "metadata": {
      "needs_background": "light"
     },
     "output_type": "display_data"
    }
   ],
   "source": [
    "edu.plot.scatter(x='Reviews',y='Installs')"
   ]
  },
  {
   "cell_type": "code",
   "execution_count": 8,
   "metadata": {},
   "outputs": [
    {
     "data": {
      "text/plain": [
       "6290507"
      ]
     },
     "execution_count": 8,
     "metadata": {},
     "output_type": "execute_result"
    }
   ],
   "source": [
    "#what\n",
    "edu.Reviews.max()"
   ]
  },
  {
   "cell_type": "code",
   "execution_count": 9,
   "metadata": {},
   "outputs": [
    {
     "data": {
      "text/html": [
       "<div>\n",
       "<style scoped>\n",
       "    .dataframe tbody tr th:only-of-type {\n",
       "        vertical-align: middle;\n",
       "    }\n",
       "\n",
       "    .dataframe tbody tr th {\n",
       "        vertical-align: top;\n",
       "    }\n",
       "\n",
       "    .dataframe thead th {\n",
       "        text-align: right;\n",
       "    }\n",
       "</style>\n",
       "<table border=\"1\" class=\"dataframe\">\n",
       "  <thead>\n",
       "    <tr style=\"text-align: right;\">\n",
       "      <th></th>\n",
       "      <th>App</th>\n",
       "      <th>Reviews</th>\n",
       "      <th>Installs</th>\n",
       "    </tr>\n",
       "  </thead>\n",
       "  <tbody>\n",
       "    <tr>\n",
       "      <th>784</th>\n",
       "      <td>Duolingo: Learn Languages Free</td>\n",
       "      <td>6290507</td>\n",
       "      <td>100000000</td>\n",
       "    </tr>\n",
       "    <tr>\n",
       "      <th>799</th>\n",
       "      <td>Duolingo: Learn Languages Free</td>\n",
       "      <td>6290507</td>\n",
       "      <td>100000000</td>\n",
       "    </tr>\n",
       "    <tr>\n",
       "      <th>826</th>\n",
       "      <td>Duolingo: Learn Languages Free</td>\n",
       "      <td>6290507</td>\n",
       "      <td>100000000</td>\n",
       "    </tr>\n",
       "  </tbody>\n",
       "</table>\n",
       "</div>"
      ],
      "text/plain": [
       "                                App  Reviews   Installs\n",
       "784  Duolingo: Learn Languages Free  6290507  100000000\n",
       "799  Duolingo: Learn Languages Free  6290507  100000000\n",
       "826  Duolingo: Learn Languages Free  6290507  100000000"
      ]
     },
     "execution_count": 9,
     "metadata": {},
     "output_type": "execute_result"
    }
   ],
   "source": [
    "edu[edu.Reviews == edu.Reviews.max()]"
   ]
  },
  {
   "cell_type": "code",
   "execution_count": 10,
   "metadata": {},
   "outputs": [
    {
     "data": {
      "text/html": [
       "<div>\n",
       "<style scoped>\n",
       "    .dataframe tbody tr th:only-of-type {\n",
       "        vertical-align: middle;\n",
       "    }\n",
       "\n",
       "    .dataframe tbody tr th {\n",
       "        vertical-align: top;\n",
       "    }\n",
       "\n",
       "    .dataframe thead th {\n",
       "        text-align: right;\n",
       "    }\n",
       "</style>\n",
       "<table border=\"1\" class=\"dataframe\">\n",
       "  <thead>\n",
       "    <tr style=\"text-align: right;\">\n",
       "      <th></th>\n",
       "      <th>App</th>\n",
       "      <th>Reviews</th>\n",
       "      <th>Installs</th>\n",
       "    </tr>\n",
       "  </thead>\n",
       "  <tbody>\n",
       "    <tr>\n",
       "      <th>699</th>\n",
       "      <td>Duolingo: Learn Languages Free</td>\n",
       "      <td>6289924</td>\n",
       "      <td>100000000</td>\n",
       "    </tr>\n",
       "    <tr>\n",
       "      <th>784</th>\n",
       "      <td>Duolingo: Learn Languages Free</td>\n",
       "      <td>6290507</td>\n",
       "      <td>100000000</td>\n",
       "    </tr>\n",
       "    <tr>\n",
       "      <th>799</th>\n",
       "      <td>Duolingo: Learn Languages Free</td>\n",
       "      <td>6290507</td>\n",
       "      <td>100000000</td>\n",
       "    </tr>\n",
       "    <tr>\n",
       "      <th>826</th>\n",
       "      <td>Duolingo: Learn Languages Free</td>\n",
       "      <td>6290507</td>\n",
       "      <td>100000000</td>\n",
       "    </tr>\n",
       "  </tbody>\n",
       "</table>\n",
       "</div>"
      ],
      "text/plain": [
       "                                App  Reviews   Installs\n",
       "699  Duolingo: Learn Languages Free  6289924  100000000\n",
       "784  Duolingo: Learn Languages Free  6290507  100000000\n",
       "799  Duolingo: Learn Languages Free  6290507  100000000\n",
       "826  Duolingo: Learn Languages Free  6290507  100000000"
      ]
     },
     "execution_count": 10,
     "metadata": {},
     "output_type": "execute_result"
    }
   ],
   "source": [
    "edu[edu.App.str.contains('Duolingo')]"
   ]
  },
  {
   "cell_type": "code",
   "execution_count": 11,
   "metadata": {},
   "outputs": [],
   "source": [
    "#duolingo has multiple entries??? might need to drop multiples\n",
    "#or treat as outlier considering its so far out of reach from other apps.........\n",
    "#reviews might also need to be scaled"
   ]
  },
  {
   "cell_type": "code",
   "execution_count": 12,
   "metadata": {},
   "outputs": [
    {
     "data": {
      "text/html": [
       "<div>\n",
       "<style scoped>\n",
       "    .dataframe tbody tr th:only-of-type {\n",
       "        vertical-align: middle;\n",
       "    }\n",
       "\n",
       "    .dataframe tbody tr th {\n",
       "        vertical-align: top;\n",
       "    }\n",
       "\n",
       "    .dataframe thead th {\n",
       "        text-align: right;\n",
       "    }\n",
       "</style>\n",
       "<table border=\"1\" class=\"dataframe\">\n",
       "  <thead>\n",
       "    <tr style=\"text-align: right;\">\n",
       "      <th></th>\n",
       "      <th>App</th>\n",
       "      <th>Reviews</th>\n",
       "      <th>Installs</th>\n",
       "      <th>rev log</th>\n",
       "      <th>ins log</th>\n",
       "    </tr>\n",
       "  </thead>\n",
       "  <tbody>\n",
       "    <tr>\n",
       "      <th>699</th>\n",
       "      <td>Duolingo: Learn Languages Free</td>\n",
       "      <td>6289924</td>\n",
       "      <td>100000000</td>\n",
       "      <td>6.798645</td>\n",
       "      <td>8.00000</td>\n",
       "    </tr>\n",
       "    <tr>\n",
       "      <th>700</th>\n",
       "      <td>TED</td>\n",
       "      <td>181893</td>\n",
       "      <td>10000000</td>\n",
       "      <td>5.259816</td>\n",
       "      <td>7.00000</td>\n",
       "    </tr>\n",
       "    <tr>\n",
       "      <th>701</th>\n",
       "      <td>English Communication - Learn English for Chin...</td>\n",
       "      <td>2544</td>\n",
       "      <td>100000</td>\n",
       "      <td>3.405517</td>\n",
       "      <td>5.00000</td>\n",
       "    </tr>\n",
       "    <tr>\n",
       "      <th>702</th>\n",
       "      <td>Khan Academy</td>\n",
       "      <td>85375</td>\n",
       "      <td>5000000</td>\n",
       "      <td>4.931331</td>\n",
       "      <td>6.69897</td>\n",
       "    </tr>\n",
       "    <tr>\n",
       "      <th>703</th>\n",
       "      <td>Learn English with Wlingua</td>\n",
       "      <td>314299</td>\n",
       "      <td>10000000</td>\n",
       "      <td>5.497343</td>\n",
       "      <td>7.00000</td>\n",
       "    </tr>\n",
       "  </tbody>\n",
       "</table>\n",
       "</div>"
      ],
      "text/plain": [
       "                                                   App  Reviews   Installs  \\\n",
       "699                     Duolingo: Learn Languages Free  6289924  100000000   \n",
       "700                                                TED   181893   10000000   \n",
       "701  English Communication - Learn English for Chin...     2544     100000   \n",
       "702                                       Khan Academy    85375    5000000   \n",
       "703                         Learn English with Wlingua   314299   10000000   \n",
       "\n",
       "      rev log  ins log  \n",
       "699  6.798645  8.00000  \n",
       "700  5.259816  7.00000  \n",
       "701  3.405517  5.00000  \n",
       "702  4.931331  6.69897  \n",
       "703  5.497343  7.00000  "
      ]
     },
     "execution_count": 12,
     "metadata": {},
     "output_type": "execute_result"
    }
   ],
   "source": [
    "edu['rev log'] = np.log10(edu.Reviews)\n",
    "edu['ins log'] = np.log10(edu.Installs)\n",
    "edu.head()"
   ]
  },
  {
   "cell_type": "code",
   "execution_count": 13,
   "metadata": {},
   "outputs": [
    {
     "data": {
      "text/plain": [
       "<AxesSubplot:xlabel='rev log', ylabel='ins log'>"
      ]
     },
     "execution_count": 13,
     "metadata": {},
     "output_type": "execute_result"
    },
    {
     "data": {
      "image/png": "[encoded data removed]",
      "text/plain": [
       "<Figure size 432x288 with 1 Axes>"
      ]
     },
     "metadata": {
      "needs_background": "light"
     },
     "output_type": "display_data"
    }
   ],
   "source": [
    "edu.plot.scatter(x='rev log',y='ins log')"
   ]
  },
  {
   "cell_type": "code",
   "execution_count": 14,
   "metadata": {},
   "outputs": [
    {
     "data": {
      "text/html": [
       "<div>\n",
       "<style scoped>\n",
       "    .dataframe tbody tr th:only-of-type {\n",
       "        vertical-align: middle;\n",
       "    }\n",
       "\n",
       "    .dataframe tbody tr th {\n",
       "        vertical-align: top;\n",
       "    }\n",
       "\n",
       "    .dataframe thead th {\n",
       "        text-align: right;\n",
       "    }\n",
       "</style>\n",
       "<table border=\"1\" class=\"dataframe\">\n",
       "  <thead>\n",
       "    <tr style=\"text-align: right;\">\n",
       "      <th></th>\n",
       "      <th>App</th>\n",
       "      <th>Reviews</th>\n",
       "      <th>Installs</th>\n",
       "      <th>rev log</th>\n",
       "      <th>ins log</th>\n",
       "    </tr>\n",
       "  </thead>\n",
       "  <tbody>\n",
       "    <tr>\n",
       "      <th>700</th>\n",
       "      <td>TED</td>\n",
       "      <td>181893</td>\n",
       "      <td>10000000</td>\n",
       "      <td>5.259816</td>\n",
       "      <td>7.00000</td>\n",
       "    </tr>\n",
       "    <tr>\n",
       "      <th>701</th>\n",
       "      <td>English Communication - Learn English for Chin...</td>\n",
       "      <td>2544</td>\n",
       "      <td>100000</td>\n",
       "      <td>3.405517</td>\n",
       "      <td>5.00000</td>\n",
       "    </tr>\n",
       "    <tr>\n",
       "      <th>702</th>\n",
       "      <td>Khan Academy</td>\n",
       "      <td>85375</td>\n",
       "      <td>5000000</td>\n",
       "      <td>4.931331</td>\n",
       "      <td>6.69897</td>\n",
       "    </tr>\n",
       "    <tr>\n",
       "      <th>703</th>\n",
       "      <td>Learn English with Wlingua</td>\n",
       "      <td>314299</td>\n",
       "      <td>10000000</td>\n",
       "      <td>5.497343</td>\n",
       "      <td>7.00000</td>\n",
       "    </tr>\n",
       "    <tr>\n",
       "      <th>704</th>\n",
       "      <td>Ai La Trieu Phu - ALTP Free</td>\n",
       "      <td>776</td>\n",
       "      <td>100000</td>\n",
       "      <td>2.889862</td>\n",
       "      <td>5.00000</td>\n",
       "    </tr>\n",
       "  </tbody>\n",
       "</table>\n",
       "</div>"
      ],
      "text/plain": [
       "                                                   App  Reviews  Installs  \\\n",
       "700                                                TED   181893  10000000   \n",
       "701  English Communication - Learn English for Chin...     2544    100000   \n",
       "702                                       Khan Academy    85375   5000000   \n",
       "703                         Learn English with Wlingua   314299  10000000   \n",
       "704                        Ai La Trieu Phu - ALTP Free      776    100000   \n",
       "\n",
       "      rev log  ins log  \n",
       "700  5.259816  7.00000  \n",
       "701  3.405517  5.00000  \n",
       "702  4.931331  6.69897  \n",
       "703  5.497343  7.00000  \n",
       "704  2.889862  5.00000  "
      ]
     },
     "execution_count": 14,
     "metadata": {},
     "output_type": "execute_result"
    }
   ],
   "source": [
    "#positive linear correlation\n",
    "#lets go ahead and drop the multiple duolingos\n",
    "edu = edu.drop([699, 784, 799])   #keeping one of the modes of the four\n",
    "edu.head()"
   ]
  },
  {
   "cell_type": "code",
   "execution_count": 15,
   "metadata": {},
   "outputs": [
    {
     "data": {
      "text/html": [
       "<div>\n",
       "<style scoped>\n",
       "    .dataframe tbody tr th:only-of-type {\n",
       "        vertical-align: middle;\n",
       "    }\n",
       "\n",
       "    .dataframe tbody tr th {\n",
       "        vertical-align: top;\n",
       "    }\n",
       "\n",
       "    .dataframe thead th {\n",
       "        text-align: right;\n",
       "    }\n",
       "</style>\n",
       "<table border=\"1\" class=\"dataframe\">\n",
       "  <thead>\n",
       "    <tr style=\"text-align: right;\">\n",
       "      <th></th>\n",
       "      <th>App</th>\n",
       "      <th>Reviews</th>\n",
       "      <th>Installs</th>\n",
       "      <th>rev log</th>\n",
       "      <th>ins log</th>\n",
       "    </tr>\n",
       "  </thead>\n",
       "  <tbody>\n",
       "    <tr>\n",
       "      <th>0</th>\n",
       "      <td>TED</td>\n",
       "      <td>181893</td>\n",
       "      <td>10000000</td>\n",
       "      <td>5.259816</td>\n",
       "      <td>7.00000</td>\n",
       "    </tr>\n",
       "    <tr>\n",
       "      <th>1</th>\n",
       "      <td>English Communication - Learn English for Chin...</td>\n",
       "      <td>2544</td>\n",
       "      <td>100000</td>\n",
       "      <td>3.405517</td>\n",
       "      <td>5.00000</td>\n",
       "    </tr>\n",
       "    <tr>\n",
       "      <th>2</th>\n",
       "      <td>Khan Academy</td>\n",
       "      <td>85375</td>\n",
       "      <td>5000000</td>\n",
       "      <td>4.931331</td>\n",
       "      <td>6.69897</td>\n",
       "    </tr>\n",
       "    <tr>\n",
       "      <th>3</th>\n",
       "      <td>Learn English with Wlingua</td>\n",
       "      <td>314299</td>\n",
       "      <td>10000000</td>\n",
       "      <td>5.497343</td>\n",
       "      <td>7.00000</td>\n",
       "    </tr>\n",
       "    <tr>\n",
       "      <th>4</th>\n",
       "      <td>Ai La Trieu Phu - ALTP Free</td>\n",
       "      <td>776</td>\n",
       "      <td>100000</td>\n",
       "      <td>2.889862</td>\n",
       "      <td>5.00000</td>\n",
       "    </tr>\n",
       "  </tbody>\n",
       "</table>\n",
       "</div>"
      ],
      "text/plain": [
       "                                                 App  Reviews  Installs  \\\n",
       "0                                                TED   181893  10000000   \n",
       "1  English Communication - Learn English for Chin...     2544    100000   \n",
       "2                                       Khan Academy    85375   5000000   \n",
       "3                         Learn English with Wlingua   314299  10000000   \n",
       "4                        Ai La Trieu Phu - ALTP Free      776    100000   \n",
       "\n",
       "    rev log  ins log  \n",
       "0  5.259816  7.00000  \n",
       "1  3.405517  5.00000  \n",
       "2  4.931331  6.69897  \n",
       "3  5.497343  7.00000  \n",
       "4  2.889862  5.00000  "
      ]
     },
     "execution_count": 15,
     "metadata": {},
     "output_type": "execute_result"
    }
   ],
   "source": [
    "edu = edu.reset_index(drop=True)\n",
    "edu.head()"
   ]
  },
  {
   "cell_type": "code",
   "execution_count": 16,
   "metadata": {},
   "outputs": [
    {
     "data": {
      "text/plain": [
       "False"
      ]
     },
     "execution_count": 16,
     "metadata": {},
     "output_type": "execute_result"
    }
   ],
   "source": [
    "#ok since we had multiple duolingos, i'm curious if there are other repeats\n",
    "edu.App.is_unique"
   ]
  },
  {
   "cell_type": "code",
   "execution_count": 17,
   "metadata": {},
   "outputs": [
    {
     "data": {
      "text/html": [
       "<div>\n",
       "<style scoped>\n",
       "    .dataframe tbody tr th:only-of-type {\n",
       "        vertical-align: middle;\n",
       "    }\n",
       "\n",
       "    .dataframe tbody tr th {\n",
       "        vertical-align: top;\n",
       "    }\n",
       "\n",
       "    .dataframe thead th {\n",
       "        text-align: right;\n",
       "    }\n",
       "</style>\n",
       "<table border=\"1\" class=\"dataframe\">\n",
       "  <thead>\n",
       "    <tr style=\"text-align: right;\">\n",
       "      <th></th>\n",
       "      <th>App</th>\n",
       "      <th>Reviews</th>\n",
       "      <th>Installs</th>\n",
       "      <th>rev log</th>\n",
       "      <th>ins log</th>\n",
       "    </tr>\n",
       "  </thead>\n",
       "  <tbody>\n",
       "    <tr>\n",
       "      <th>38</th>\n",
       "      <td>Khan Academy</td>\n",
       "      <td>85375</td>\n",
       "      <td>5000000</td>\n",
       "      <td>4.931331</td>\n",
       "      <td>6.69897</td>\n",
       "    </tr>\n",
       "    <tr>\n",
       "      <th>39</th>\n",
       "      <td>TED</td>\n",
       "      <td>181893</td>\n",
       "      <td>10000000</td>\n",
       "      <td>5.259816</td>\n",
       "      <td>7.00000</td>\n",
       "    </tr>\n",
       "    <tr>\n",
       "      <th>46</th>\n",
       "      <td>Lumosity: #1 Brain Games &amp; Cognitive Training App</td>\n",
       "      <td>215301</td>\n",
       "      <td>10000000</td>\n",
       "      <td>5.333046</td>\n",
       "      <td>7.00000</td>\n",
       "    </tr>\n",
       "    <tr>\n",
       "      <th>57</th>\n",
       "      <td>Udemy - Online Courses</td>\n",
       "      <td>99020</td>\n",
       "      <td>1000000</td>\n",
       "      <td>4.995723</td>\n",
       "      <td>6.00000</td>\n",
       "    </tr>\n",
       "    <tr>\n",
       "      <th>82</th>\n",
       "      <td>Khan Academy</td>\n",
       "      <td>85375</td>\n",
       "      <td>5000000</td>\n",
       "      <td>4.931331</td>\n",
       "      <td>6.69897</td>\n",
       "    </tr>\n",
       "    <tr>\n",
       "      <th>83</th>\n",
       "      <td>TED</td>\n",
       "      <td>181893</td>\n",
       "      <td>10000000</td>\n",
       "      <td>5.259816</td>\n",
       "      <td>7.00000</td>\n",
       "    </tr>\n",
       "    <tr>\n",
       "      <th>84</th>\n",
       "      <td>Quizlet: Learn Languages &amp; Vocab with Flashcards</td>\n",
       "      <td>211856</td>\n",
       "      <td>10000000</td>\n",
       "      <td>5.326041</td>\n",
       "      <td>7.00000</td>\n",
       "    </tr>\n",
       "    <tr>\n",
       "      <th>85</th>\n",
       "      <td>Coursera: Online courses</td>\n",
       "      <td>90481</td>\n",
       "      <td>5000000</td>\n",
       "      <td>4.956557</td>\n",
       "      <td>6.69897</td>\n",
       "    </tr>\n",
       "    <tr>\n",
       "      <th>86</th>\n",
       "      <td>Udemy - Online Courses</td>\n",
       "      <td>99020</td>\n",
       "      <td>1000000</td>\n",
       "      <td>4.995723</td>\n",
       "      <td>6.00000</td>\n",
       "    </tr>\n",
       "    <tr>\n",
       "      <th>87</th>\n",
       "      <td>Udacity - Lifelong Learning</td>\n",
       "      <td>22384</td>\n",
       "      <td>1000000</td>\n",
       "      <td>4.349938</td>\n",
       "      <td>6.00000</td>\n",
       "    </tr>\n",
       "    <tr>\n",
       "      <th>88</th>\n",
       "      <td>edX - Online Courses by Harvard, MIT &amp; more</td>\n",
       "      <td>32380</td>\n",
       "      <td>1000000</td>\n",
       "      <td>4.510277</td>\n",
       "      <td>6.00000</td>\n",
       "    </tr>\n",
       "    <tr>\n",
       "      <th>91</th>\n",
       "      <td>Lynda - Online Training Videos</td>\n",
       "      <td>8599</td>\n",
       "      <td>1000000</td>\n",
       "      <td>3.934448</td>\n",
       "      <td>6.00000</td>\n",
       "    </tr>\n",
       "    <tr>\n",
       "      <th>92</th>\n",
       "      <td>Learn languages, grammar &amp; vocabulary with Mem...</td>\n",
       "      <td>1107884</td>\n",
       "      <td>10000000</td>\n",
       "      <td>6.044494</td>\n",
       "      <td>7.00000</td>\n",
       "    </tr>\n",
       "    <tr>\n",
       "      <th>93</th>\n",
       "      <td>Brilliant</td>\n",
       "      <td>41185</td>\n",
       "      <td>1000000</td>\n",
       "      <td>4.614739</td>\n",
       "      <td>6.00000</td>\n",
       "    </tr>\n",
       "    <tr>\n",
       "      <th>95</th>\n",
       "      <td>Babbel – Learn Languages</td>\n",
       "      <td>266935</td>\n",
       "      <td>10000000</td>\n",
       "      <td>5.426406</td>\n",
       "      <td>7.00000</td>\n",
       "    </tr>\n",
       "    <tr>\n",
       "      <th>99</th>\n",
       "      <td>Rosetta Stone: Learn to Speak &amp; Read New Langu...</td>\n",
       "      <td>172508</td>\n",
       "      <td>5000000</td>\n",
       "      <td>5.236809</td>\n",
       "      <td>6.69897</td>\n",
       "    </tr>\n",
       "    <tr>\n",
       "      <th>104</th>\n",
       "      <td>Learn languages, grammar &amp; vocabulary with Mem...</td>\n",
       "      <td>1107903</td>\n",
       "      <td>10000000</td>\n",
       "      <td>6.044502</td>\n",
       "      <td>7.00000</td>\n",
       "    </tr>\n",
       "    <tr>\n",
       "      <th>105</th>\n",
       "      <td>Learn English with Wlingua</td>\n",
       "      <td>314300</td>\n",
       "      <td>10000000</td>\n",
       "      <td>5.497344</td>\n",
       "      <td>7.00000</td>\n",
       "    </tr>\n",
       "    <tr>\n",
       "      <th>117</th>\n",
       "      <td>Quizlet: Learn Languages &amp; Vocab with Flashcards</td>\n",
       "      <td>211856</td>\n",
       "      <td>10000000</td>\n",
       "      <td>5.326041</td>\n",
       "      <td>7.00000</td>\n",
       "    </tr>\n",
       "    <tr>\n",
       "      <th>122</th>\n",
       "      <td>Google Classroom</td>\n",
       "      <td>69498</td>\n",
       "      <td>10000000</td>\n",
       "      <td>4.841972</td>\n",
       "      <td>7.00000</td>\n",
       "    </tr>\n",
       "    <tr>\n",
       "      <th>126</th>\n",
       "      <td>Learn 50 languages</td>\n",
       "      <td>55256</td>\n",
       "      <td>5000000</td>\n",
       "      <td>4.742379</td>\n",
       "      <td>6.69897</td>\n",
       "    </tr>\n",
       "    <tr>\n",
       "      <th>128</th>\n",
       "      <td>Mango Languages: Lovable Language Courses</td>\n",
       "      <td>4815</td>\n",
       "      <td>500000</td>\n",
       "      <td>3.682596</td>\n",
       "      <td>5.69897</td>\n",
       "    </tr>\n",
       "    <tr>\n",
       "      <th>129</th>\n",
       "      <td>Rosetta Stone: Learn to Speak &amp; Read New Langu...</td>\n",
       "      <td>172508</td>\n",
       "      <td>5000000</td>\n",
       "      <td>5.236809</td>\n",
       "      <td>6.69897</td>\n",
       "    </tr>\n",
       "    <tr>\n",
       "      <th>130</th>\n",
       "      <td>Learn languages, grammar &amp; vocabulary with Mem...</td>\n",
       "      <td>1107948</td>\n",
       "      <td>10000000</td>\n",
       "      <td>6.044519</td>\n",
       "      <td>7.00000</td>\n",
       "    </tr>\n",
       "    <tr>\n",
       "      <th>131</th>\n",
       "      <td>Babbel – Learn Languages</td>\n",
       "      <td>266948</td>\n",
       "      <td>10000000</td>\n",
       "      <td>5.426427</td>\n",
       "      <td>7.00000</td>\n",
       "    </tr>\n",
       "    <tr>\n",
       "      <th>133</th>\n",
       "      <td>busuu: Learn Languages - Spanish, English &amp; More</td>\n",
       "      <td>206532</td>\n",
       "      <td>10000000</td>\n",
       "      <td>5.314987</td>\n",
       "      <td>7.00000</td>\n",
       "    </tr>\n",
       "    <tr>\n",
       "      <th>134</th>\n",
       "      <td>My Class Schedule: Timetable</td>\n",
       "      <td>9348</td>\n",
       "      <td>1000000</td>\n",
       "      <td>3.970719</td>\n",
       "      <td>6.00000</td>\n",
       "    </tr>\n",
       "    <tr>\n",
       "      <th>138</th>\n",
       "      <td>Socratic - Math Answers &amp; Homework Help</td>\n",
       "      <td>37862</td>\n",
       "      <td>1000000</td>\n",
       "      <td>4.578204</td>\n",
       "      <td>6.00000</td>\n",
       "    </tr>\n",
       "    <tr>\n",
       "      <th>140</th>\n",
       "      <td>Google Classroom</td>\n",
       "      <td>69498</td>\n",
       "      <td>10000000</td>\n",
       "      <td>4.841972</td>\n",
       "      <td>7.00000</td>\n",
       "    </tr>\n",
       "    <tr>\n",
       "      <th>141</th>\n",
       "      <td>ClassDojo</td>\n",
       "      <td>148549</td>\n",
       "      <td>10000000</td>\n",
       "      <td>5.171870</td>\n",
       "      <td>7.00000</td>\n",
       "    </tr>\n",
       "    <tr>\n",
       "      <th>142</th>\n",
       "      <td>HelloTalk — Chat, Speak &amp; Learn Foreign Languages</td>\n",
       "      <td>84311</td>\n",
       "      <td>5000000</td>\n",
       "      <td>4.925884</td>\n",
       "      <td>6.69897</td>\n",
       "    </tr>\n",
       "    <tr>\n",
       "      <th>143</th>\n",
       "      <td>Quizlet: Learn Languages &amp; Vocab with Flashcards</td>\n",
       "      <td>211856</td>\n",
       "      <td>10000000</td>\n",
       "      <td>5.326041</td>\n",
       "      <td>7.00000</td>\n",
       "    </tr>\n",
       "    <tr>\n",
       "      <th>144</th>\n",
       "      <td>busuu: Learn Languages - Spanish, English &amp; More</td>\n",
       "      <td>206532</td>\n",
       "      <td>10000000</td>\n",
       "      <td>5.314987</td>\n",
       "      <td>7.00000</td>\n",
       "    </tr>\n",
       "    <tr>\n",
       "      <th>145</th>\n",
       "      <td>Rosetta Stone: Learn to Speak &amp; Read New Langu...</td>\n",
       "      <td>172508</td>\n",
       "      <td>5000000</td>\n",
       "      <td>5.236809</td>\n",
       "      <td>6.69897</td>\n",
       "    </tr>\n",
       "  </tbody>\n",
       "</table>\n",
       "</div>"
      ],
      "text/plain": [
       "                                                   App  Reviews  Installs  \\\n",
       "38                                        Khan Academy    85375   5000000   \n",
       "39                                                 TED   181893  10000000   \n",
       "46   Lumosity: #1 Brain Games & Cognitive Training App   215301  10000000   \n",
       "57                              Udemy - Online Courses    99020   1000000   \n",
       "82                                        Khan Academy    85375   5000000   \n",
       "83                                                 TED   181893  10000000   \n",
       "84    Quizlet: Learn Languages & Vocab with Flashcards   211856  10000000   \n",
       "85                            Coursera: Online courses    90481   5000000   \n",
       "86                              Udemy - Online Courses    99020   1000000   \n",
       "87                         Udacity - Lifelong Learning    22384   1000000   \n",
       "88         edX - Online Courses by Harvard, MIT & more    32380   1000000   \n",
       "91                      Lynda - Online Training Videos     8599   1000000   \n",
       "92   Learn languages, grammar & vocabulary with Mem...  1107884  10000000   \n",
       "93                                           Brilliant    41185   1000000   \n",
       "95                            Babbel – Learn Languages   266935  10000000   \n",
       "99   Rosetta Stone: Learn to Speak & Read New Langu...   172508   5000000   \n",
       "104  Learn languages, grammar & vocabulary with Mem...  1107903  10000000   \n",
       "105                         Learn English with Wlingua   314300  10000000   \n",
       "117   Quizlet: Learn Languages & Vocab with Flashcards   211856  10000000   \n",
       "122                                   Google Classroom    69498  10000000   \n",
       "126                                 Learn 50 languages    55256   5000000   \n",
       "128          Mango Languages: Lovable Language Courses     4815    500000   \n",
       "129  Rosetta Stone: Learn to Speak & Read New Langu...   172508   5000000   \n",
       "130  Learn languages, grammar & vocabulary with Mem...  1107948  10000000   \n",
       "131                           Babbel – Learn Languages   266948  10000000   \n",
       "133   busuu: Learn Languages - Spanish, English & More   206532  10000000   \n",
       "134                       My Class Schedule: Timetable     9348   1000000   \n",
       "138            Socratic - Math Answers & Homework Help    37862   1000000   \n",
       "140                                   Google Classroom    69498  10000000   \n",
       "141                                          ClassDojo   148549  10000000   \n",
       "142  HelloTalk — Chat, Speak & Learn Foreign Languages    84311   5000000   \n",
       "143   Quizlet: Learn Languages & Vocab with Flashcards   211856  10000000   \n",
       "144   busuu: Learn Languages - Spanish, English & More   206532  10000000   \n",
       "145  Rosetta Stone: Learn to Speak & Read New Langu...   172508   5000000   \n",
       "\n",
       "      rev log  ins log  \n",
       "38   4.931331  6.69897  \n",
       "39   5.259816  7.00000  \n",
       "46   5.333046  7.00000  \n",
       "57   4.995723  6.00000  \n",
       "82   4.931331  6.69897  \n",
       "83   5.259816  7.00000  \n",
       "84   5.326041  7.00000  \n",
       "85   4.956557  6.69897  \n",
       "86   4.995723  6.00000  \n",
       "87   4.349938  6.00000  \n",
       "88   4.510277  6.00000  \n",
       "91   3.934448  6.00000  \n",
       "92   6.044494  7.00000  \n",
       "93   4.614739  6.00000  \n",
       "95   5.426406  7.00000  \n",
       "99   5.236809  6.69897  \n",
       "104  6.044502  7.00000  \n",
       "105  5.497344  7.00000  \n",
       "117  5.326041  7.00000  \n",
       "122  4.841972  7.00000  \n",
       "126  4.742379  6.69897  \n",
       "128  3.682596  5.69897  \n",
       "129  5.236809  6.69897  \n",
       "130  6.044519  7.00000  \n",
       "131  5.426427  7.00000  \n",
       "133  5.314987  7.00000  \n",
       "134  3.970719  6.00000  \n",
       "138  4.578204  6.00000  \n",
       "140  4.841972  7.00000  \n",
       "141  5.171870  7.00000  \n",
       "142  4.925884  6.69897  \n",
       "143  5.326041  7.00000  \n",
       "144  5.314987  7.00000  \n",
       "145  5.236809  6.69897  "
      ]
     },
     "execution_count": 17,
     "metadata": {},
     "output_type": "execute_result"
    }
   ],
   "source": [
    "edu[edu.App.duplicated()]"
   ]
  },
  {
   "cell_type": "code",
   "execution_count": 18,
   "metadata": {},
   "outputs": [
    {
     "data": {
      "text/plain": [
       "False"
      ]
     },
     "execution_count": 18,
     "metadata": {},
     "output_type": "execute_result"
    }
   ],
   "source": [
    "#... oh ok\n",
    "edu = edu.drop_duplicates()\n",
    "edu.App.is_unique"
   ]
  },
  {
   "cell_type": "code",
   "execution_count": 19,
   "metadata": {},
   "outputs": [
    {
     "data": {
      "text/html": [
       "<div>\n",
       "<style scoped>\n",
       "    .dataframe tbody tr th:only-of-type {\n",
       "        vertical-align: middle;\n",
       "    }\n",
       "\n",
       "    .dataframe tbody tr th {\n",
       "        vertical-align: top;\n",
       "    }\n",
       "\n",
       "    .dataframe thead th {\n",
       "        text-align: right;\n",
       "    }\n",
       "</style>\n",
       "<table border=\"1\" class=\"dataframe\">\n",
       "  <thead>\n",
       "    <tr style=\"text-align: right;\">\n",
       "      <th></th>\n",
       "      <th>App</th>\n",
       "      <th>Reviews</th>\n",
       "      <th>Installs</th>\n",
       "      <th>rev log</th>\n",
       "      <th>ins log</th>\n",
       "    </tr>\n",
       "  </thead>\n",
       "  <tbody>\n",
       "    <tr>\n",
       "      <th>17</th>\n",
       "      <td>Babbel – Learn Languages</td>\n",
       "      <td>266948</td>\n",
       "      <td>10000000</td>\n",
       "      <td>5.426427</td>\n",
       "      <td>7.00000</td>\n",
       "    </tr>\n",
       "    <tr>\n",
       "      <th>95</th>\n",
       "      <td>Babbel – Learn Languages</td>\n",
       "      <td>266935</td>\n",
       "      <td>10000000</td>\n",
       "      <td>5.426406</td>\n",
       "      <td>7.00000</td>\n",
       "    </tr>\n",
       "    <tr>\n",
       "      <th>123</th>\n",
       "      <td>ClassDojo</td>\n",
       "      <td>148550</td>\n",
       "      <td>10000000</td>\n",
       "      <td>5.171873</td>\n",
       "      <td>7.00000</td>\n",
       "    </tr>\n",
       "    <tr>\n",
       "      <th>141</th>\n",
       "      <td>ClassDojo</td>\n",
       "      <td>148549</td>\n",
       "      <td>10000000</td>\n",
       "      <td>5.171870</td>\n",
       "      <td>7.00000</td>\n",
       "    </tr>\n",
       "    <tr>\n",
       "      <th>122</th>\n",
       "      <td>Google Classroom</td>\n",
       "      <td>69498</td>\n",
       "      <td>10000000</td>\n",
       "      <td>4.841972</td>\n",
       "      <td>7.00000</td>\n",
       "    </tr>\n",
       "    <tr>\n",
       "      <th>90</th>\n",
       "      <td>Google Classroom</td>\n",
       "      <td>69493</td>\n",
       "      <td>10000000</td>\n",
       "      <td>4.841941</td>\n",
       "      <td>7.00000</td>\n",
       "    </tr>\n",
       "    <tr>\n",
       "      <th>142</th>\n",
       "      <td>HelloTalk — Chat, Speak &amp; Learn Foreign Languages</td>\n",
       "      <td>84311</td>\n",
       "      <td>5000000</td>\n",
       "      <td>4.925884</td>\n",
       "      <td>6.69897</td>\n",
       "    </tr>\n",
       "    <tr>\n",
       "      <th>127</th>\n",
       "      <td>HelloTalk — Chat, Speak &amp; Learn Foreign Languages</td>\n",
       "      <td>84309</td>\n",
       "      <td>5000000</td>\n",
       "      <td>4.925874</td>\n",
       "      <td>6.69897</td>\n",
       "    </tr>\n",
       "    <tr>\n",
       "      <th>105</th>\n",
       "      <td>Learn English with Wlingua</td>\n",
       "      <td>314300</td>\n",
       "      <td>10000000</td>\n",
       "      <td>5.497344</td>\n",
       "      <td>7.00000</td>\n",
       "    </tr>\n",
       "    <tr>\n",
       "      <th>3</th>\n",
       "      <td>Learn English with Wlingua</td>\n",
       "      <td>314299</td>\n",
       "      <td>10000000</td>\n",
       "      <td>5.497343</td>\n",
       "      <td>7.00000</td>\n",
       "    </tr>\n",
       "    <tr>\n",
       "      <th>37</th>\n",
       "      <td>Learn languages, grammar &amp; vocabulary with Mem...</td>\n",
       "      <td>1107903</td>\n",
       "      <td>10000000</td>\n",
       "      <td>6.044502</td>\n",
       "      <td>7.00000</td>\n",
       "    </tr>\n",
       "    <tr>\n",
       "      <th>130</th>\n",
       "      <td>Learn languages, grammar &amp; vocabulary with Mem...</td>\n",
       "      <td>1107948</td>\n",
       "      <td>10000000</td>\n",
       "      <td>6.044519</td>\n",
       "      <td>7.00000</td>\n",
       "    </tr>\n",
       "    <tr>\n",
       "      <th>92</th>\n",
       "      <td>Learn languages, grammar &amp; vocabulary with Mem...</td>\n",
       "      <td>1107884</td>\n",
       "      <td>10000000</td>\n",
       "      <td>6.044494</td>\n",
       "      <td>7.00000</td>\n",
       "    </tr>\n",
       "    <tr>\n",
       "      <th>89</th>\n",
       "      <td>Rosetta Stone: Learn to Speak &amp; Read New Langu...</td>\n",
       "      <td>172505</td>\n",
       "      <td>5000000</td>\n",
       "      <td>5.236802</td>\n",
       "      <td>6.69897</td>\n",
       "    </tr>\n",
       "    <tr>\n",
       "      <th>99</th>\n",
       "      <td>Rosetta Stone: Learn to Speak &amp; Read New Langu...</td>\n",
       "      <td>172508</td>\n",
       "      <td>5000000</td>\n",
       "      <td>5.236809</td>\n",
       "      <td>6.69897</td>\n",
       "    </tr>\n",
       "    <tr>\n",
       "      <th>106</th>\n",
       "      <td>busuu: Learn Languages - Spanish, English &amp; More</td>\n",
       "      <td>206527</td>\n",
       "      <td>10000000</td>\n",
       "      <td>5.314977</td>\n",
       "      <td>7.00000</td>\n",
       "    </tr>\n",
       "    <tr>\n",
       "      <th>133</th>\n",
       "      <td>busuu: Learn Languages - Spanish, English &amp; More</td>\n",
       "      <td>206532</td>\n",
       "      <td>10000000</td>\n",
       "      <td>5.314987</td>\n",
       "      <td>7.00000</td>\n",
       "    </tr>\n",
       "    <tr>\n",
       "      <th>88</th>\n",
       "      <td>edX - Online Courses by Harvard, MIT &amp; more</td>\n",
       "      <td>32380</td>\n",
       "      <td>1000000</td>\n",
       "      <td>4.510277</td>\n",
       "      <td>6.00000</td>\n",
       "    </tr>\n",
       "    <tr>\n",
       "      <th>43</th>\n",
       "      <td>edX - Online Courses by Harvard, MIT &amp; more</td>\n",
       "      <td>32381</td>\n",
       "      <td>1000000</td>\n",
       "      <td>4.510290</td>\n",
       "      <td>6.00000</td>\n",
       "    </tr>\n",
       "  </tbody>\n",
       "</table>\n",
       "</div>"
      ],
      "text/plain": [
       "                                                   App  Reviews  Installs  \\\n",
       "17                            Babbel – Learn Languages   266948  10000000   \n",
       "95                            Babbel – Learn Languages   266935  10000000   \n",
       "123                                          ClassDojo   148550  10000000   \n",
       "141                                          ClassDojo   148549  10000000   \n",
       "122                                   Google Classroom    69498  10000000   \n",
       "90                                    Google Classroom    69493  10000000   \n",
       "142  HelloTalk — Chat, Speak & Learn Foreign Languages    84311   5000000   \n",
       "127  HelloTalk — Chat, Speak & Learn Foreign Languages    84309   5000000   \n",
       "105                         Learn English with Wlingua   314300  10000000   \n",
       "3                           Learn English with Wlingua   314299  10000000   \n",
       "37   Learn languages, grammar & vocabulary with Mem...  1107903  10000000   \n",
       "130  Learn languages, grammar & vocabulary with Mem...  1107948  10000000   \n",
       "92   Learn languages, grammar & vocabulary with Mem...  1107884  10000000   \n",
       "89   Rosetta Stone: Learn to Speak & Read New Langu...   172505   5000000   \n",
       "99   Rosetta Stone: Learn to Speak & Read New Langu...   172508   5000000   \n",
       "106   busuu: Learn Languages - Spanish, English & More   206527  10000000   \n",
       "133   busuu: Learn Languages - Spanish, English & More   206532  10000000   \n",
       "88         edX - Online Courses by Harvard, MIT & more    32380   1000000   \n",
       "43         edX - Online Courses by Harvard, MIT & more    32381   1000000   \n",
       "\n",
       "      rev log  ins log  \n",
       "17   5.426427  7.00000  \n",
       "95   5.426406  7.00000  \n",
       "123  5.171873  7.00000  \n",
       "141  5.171870  7.00000  \n",
       "122  4.841972  7.00000  \n",
       "90   4.841941  7.00000  \n",
       "142  4.925884  6.69897  \n",
       "127  4.925874  6.69897  \n",
       "105  5.497344  7.00000  \n",
       "3    5.497343  7.00000  \n",
       "37   6.044502  7.00000  \n",
       "130  6.044519  7.00000  \n",
       "92   6.044494  7.00000  \n",
       "89   5.236802  6.69897  \n",
       "99   5.236809  6.69897  \n",
       "106  5.314977  7.00000  \n",
       "133  5.314987  7.00000  \n",
       "88   4.510277  6.00000  \n",
       "43   4.510290  6.00000  "
      ]
     },
     "execution_count": 19,
     "metadata": {},
     "output_type": "execute_result"
    }
   ],
   "source": [
    "dup_check = edu[edu.App.duplicated(keep=False)]\n",
    "dup_check.sort_values('App')"
   ]
  },
  {
   "cell_type": "code",
   "execution_count": 20,
   "metadata": {},
   "outputs": [
    {
     "data": {
      "text/plain": [
       "True"
      ]
     },
     "execution_count": 20,
     "metadata": {},
     "output_type": "execute_result"
    }
   ],
   "source": [
    "#we're going to keep the entry with more reviews, thinking thats the more recent data\n",
    "edu = edu.drop([95,141,90,127,3,37,92,89,106,88])\n",
    "edu.App.is_unique"
   ]
  },
  {
   "cell_type": "code",
   "execution_count": 21,
   "metadata": {},
   "outputs": [
    {
     "data": {
      "text/html": [
       "<div>\n",
       "<style scoped>\n",
       "    .dataframe tbody tr th:only-of-type {\n",
       "        vertical-align: middle;\n",
       "    }\n",
       "\n",
       "    .dataframe tbody tr th {\n",
       "        vertical-align: top;\n",
       "    }\n",
       "\n",
       "    .dataframe thead th {\n",
       "        text-align: right;\n",
       "    }\n",
       "</style>\n",
       "<table border=\"1\" class=\"dataframe\">\n",
       "  <thead>\n",
       "    <tr style=\"text-align: right;\">\n",
       "      <th></th>\n",
       "      <th>App</th>\n",
       "      <th>Reviews</th>\n",
       "      <th>Installs</th>\n",
       "      <th>rev log</th>\n",
       "      <th>ins log</th>\n",
       "    </tr>\n",
       "  </thead>\n",
       "  <tbody>\n",
       "    <tr>\n",
       "      <th>0</th>\n",
       "      <td>TED</td>\n",
       "      <td>181893</td>\n",
       "      <td>10000000</td>\n",
       "      <td>5.259816</td>\n",
       "      <td>7.00000</td>\n",
       "    </tr>\n",
       "    <tr>\n",
       "      <th>1</th>\n",
       "      <td>English Communication - Learn English for Chin...</td>\n",
       "      <td>2544</td>\n",
       "      <td>100000</td>\n",
       "      <td>3.405517</td>\n",
       "      <td>5.00000</td>\n",
       "    </tr>\n",
       "    <tr>\n",
       "      <th>2</th>\n",
       "      <td>Khan Academy</td>\n",
       "      <td>85375</td>\n",
       "      <td>5000000</td>\n",
       "      <td>4.931331</td>\n",
       "      <td>6.69897</td>\n",
       "    </tr>\n",
       "    <tr>\n",
       "      <th>3</th>\n",
       "      <td>Ai La Trieu Phu - ALTP Free</td>\n",
       "      <td>776</td>\n",
       "      <td>100000</td>\n",
       "      <td>2.889862</td>\n",
       "      <td>5.00000</td>\n",
       "    </tr>\n",
       "    <tr>\n",
       "      <th>4</th>\n",
       "      <td>Princess Coloring Book</td>\n",
       "      <td>9770</td>\n",
       "      <td>5000000</td>\n",
       "      <td>3.989895</td>\n",
       "      <td>6.69897</td>\n",
       "    </tr>\n",
       "  </tbody>\n",
       "</table>\n",
       "</div>"
      ],
      "text/plain": [
       "                                                 App  Reviews  Installs  \\\n",
       "0                                                TED   181893  10000000   \n",
       "1  English Communication - Learn English for Chin...     2544    100000   \n",
       "2                                       Khan Academy    85375   5000000   \n",
       "3                        Ai La Trieu Phu - ALTP Free      776    100000   \n",
       "4                             Princess Coloring Book     9770   5000000   \n",
       "\n",
       "    rev log  ins log  \n",
       "0  5.259816  7.00000  \n",
       "1  3.405517  5.00000  \n",
       "2  4.931331  6.69897  \n",
       "3  2.889862  5.00000  \n",
       "4  3.989895  6.69897  "
      ]
     },
     "execution_count": 21,
     "metadata": {},
     "output_type": "execute_result"
    }
   ],
   "source": [
    "edu = edu.reset_index(drop=True)\n",
    "edu.head()"
   ]
  },
  {
   "cell_type": "code",
   "execution_count": 22,
   "metadata": {},
   "outputs": [
    {
     "data": {
      "text/html": [
       "<div>\n",
       "<style scoped>\n",
       "    .dataframe tbody tr th:only-of-type {\n",
       "        vertical-align: middle;\n",
       "    }\n",
       "\n",
       "    .dataframe tbody tr th {\n",
       "        vertical-align: top;\n",
       "    }\n",
       "\n",
       "    .dataframe thead th {\n",
       "        text-align: right;\n",
       "    }\n",
       "</style>\n",
       "<table border=\"1\" class=\"dataframe\">\n",
       "  <thead>\n",
       "    <tr style=\"text-align: right;\">\n",
       "      <th></th>\n",
       "      <th>App</th>\n",
       "      <th>Reviews</th>\n",
       "      <th>Installs</th>\n",
       "      <th>rev log</th>\n",
       "      <th>ins log</th>\n",
       "    </tr>\n",
       "  </thead>\n",
       "  <tbody>\n",
       "    <tr>\n",
       "      <th>16</th>\n",
       "      <td>Babbel – Learn Languages</td>\n",
       "      <td>266948</td>\n",
       "      <td>10000000</td>\n",
       "      <td>5.426427</td>\n",
       "      <td>7.0</td>\n",
       "    </tr>\n",
       "    <tr>\n",
       "      <th>81</th>\n",
       "      <td>Babbel – Learn Spanish</td>\n",
       "      <td>54798</td>\n",
       "      <td>1000000</td>\n",
       "      <td>4.738765</td>\n",
       "      <td>6.0</td>\n",
       "    </tr>\n",
       "  </tbody>\n",
       "</table>\n",
       "</div>"
      ],
      "text/plain": [
       "                         App  Reviews  Installs   rev log  ins log\n",
       "16  Babbel – Learn Languages   266948  10000000  5.426427      7.0\n",
       "81    Babbel – Learn Spanish    54798   1000000  4.738765      6.0"
      ]
     },
     "execution_count": 22,
     "metadata": {},
     "output_type": "execute_result"
    }
   ],
   "source": [
    "#double check\n",
    "edu[edu.App.str.contains('Babbel')]"
   ]
  },
  {
   "cell_type": "code",
   "execution_count": 23,
   "metadata": {},
   "outputs": [
    {
     "data": {
      "text/plain": [
       "119"
      ]
     },
     "execution_count": 23,
     "metadata": {},
     "output_type": "execute_result"
    }
   ],
   "source": [
    "#yay\n",
    "len(edu)"
   ]
  },
  {
   "cell_type": "code",
   "execution_count": 24,
   "metadata": {},
   "outputs": [
    {
     "data": {
      "text/plain": [
       "<AxesSubplot:xlabel='rev log', ylabel='ins log'>"
      ]
     },
     "execution_count": 24,
     "metadata": {},
     "output_type": "execute_result"
    },
    {
     "data": {
      "image/png": "[encoded data removed]",
      "text/plain": [
       "<Figure size 432x288 with 1 Axes>"
      ]
     },
     "metadata": {
      "needs_background": "light"
     },
     "output_type": "display_data"
    }
   ],
   "source": [
    "edu.plot.scatter(x='rev log',y='ins log', alpha=.3)"
   ]
  },
  {
   "cell_type": "code",
   "execution_count": 25,
   "metadata": {},
   "outputs": [
    {
     "data": {
      "text/html": [
       "<div>\n",
       "<style scoped>\n",
       "    .dataframe tbody tr th:only-of-type {\n",
       "        vertical-align: middle;\n",
       "    }\n",
       "\n",
       "    .dataframe tbody tr th {\n",
       "        vertical-align: top;\n",
       "    }\n",
       "\n",
       "    .dataframe thead th {\n",
       "        text-align: right;\n",
       "    }\n",
       "</style>\n",
       "<table border=\"1\" class=\"dataframe\">\n",
       "  <thead>\n",
       "    <tr style=\"text-align: right;\">\n",
       "      <th></th>\n",
       "      <th>App</th>\n",
       "      <th>rev log</th>\n",
       "      <th>ins log</th>\n",
       "    </tr>\n",
       "  </thead>\n",
       "  <tbody>\n",
       "    <tr>\n",
       "      <th>0</th>\n",
       "      <td>TED</td>\n",
       "      <td>5.259816</td>\n",
       "      <td>7.00000</td>\n",
       "    </tr>\n",
       "    <tr>\n",
       "      <th>1</th>\n",
       "      <td>English Communication - Learn English for Chin...</td>\n",
       "      <td>3.405517</td>\n",
       "      <td>5.00000</td>\n",
       "    </tr>\n",
       "    <tr>\n",
       "      <th>2</th>\n",
       "      <td>Khan Academy</td>\n",
       "      <td>4.931331</td>\n",
       "      <td>6.69897</td>\n",
       "    </tr>\n",
       "    <tr>\n",
       "      <th>3</th>\n",
       "      <td>Ai La Trieu Phu - ALTP Free</td>\n",
       "      <td>2.889862</td>\n",
       "      <td>5.00000</td>\n",
       "    </tr>\n",
       "    <tr>\n",
       "      <th>4</th>\n",
       "      <td>Princess Coloring Book</td>\n",
       "      <td>3.989895</td>\n",
       "      <td>6.69897</td>\n",
       "    </tr>\n",
       "  </tbody>\n",
       "</table>\n",
       "</div>"
      ],
      "text/plain": [
       "                                                 App   rev log  ins log\n",
       "0                                                TED  5.259816  7.00000\n",
       "1  English Communication - Learn English for Chin...  3.405517  5.00000\n",
       "2                                       Khan Academy  4.931331  6.69897\n",
       "3                        Ai La Trieu Phu - ALTP Free  2.889862  5.00000\n",
       "4                             Princess Coloring Book  3.989895  6.69897"
      ]
     },
     "execution_count": 25,
     "metadata": {},
     "output_type": "execute_result"
    }
   ],
   "source": [
    "#still a positive linear correlation\n",
    "edu_log = edu.drop(['Reviews','Installs'], axis=1)\n",
    "edu_log.head()"
   ]
  },
  {
   "cell_type": "code",
   "execution_count": 26,
   "metadata": {},
   "outputs": [
    {
     "data": {
      "text/html": [
       "<div>\n",
       "<style scoped>\n",
       "    .dataframe tbody tr th:only-of-type {\n",
       "        vertical-align: middle;\n",
       "    }\n",
       "\n",
       "    .dataframe tbody tr th {\n",
       "        vertical-align: top;\n",
       "    }\n",
       "\n",
       "    .dataframe thead th {\n",
       "        text-align: right;\n",
       "    }\n",
       "</style>\n",
       "<table border=\"1\" class=\"dataframe\">\n",
       "  <thead>\n",
       "    <tr style=\"text-align: right;\">\n",
       "      <th></th>\n",
       "      <th>App</th>\n",
       "      <th>Reviews</th>\n",
       "      <th>Installs</th>\n",
       "    </tr>\n",
       "  </thead>\n",
       "  <tbody>\n",
       "    <tr>\n",
       "      <th>0</th>\n",
       "      <td>TED</td>\n",
       "      <td>181893</td>\n",
       "      <td>10000000</td>\n",
       "    </tr>\n",
       "    <tr>\n",
       "      <th>1</th>\n",
       "      <td>English Communication - Learn English for Chin...</td>\n",
       "      <td>2544</td>\n",
       "      <td>100000</td>\n",
       "    </tr>\n",
       "    <tr>\n",
       "      <th>2</th>\n",
       "      <td>Khan Academy</td>\n",
       "      <td>85375</td>\n",
       "      <td>5000000</td>\n",
       "    </tr>\n",
       "    <tr>\n",
       "      <th>3</th>\n",
       "      <td>Ai La Trieu Phu - ALTP Free</td>\n",
       "      <td>776</td>\n",
       "      <td>100000</td>\n",
       "    </tr>\n",
       "    <tr>\n",
       "      <th>4</th>\n",
       "      <td>Princess Coloring Book</td>\n",
       "      <td>9770</td>\n",
       "      <td>5000000</td>\n",
       "    </tr>\n",
       "  </tbody>\n",
       "</table>\n",
       "</div>"
      ],
      "text/plain": [
       "                                                 App  Reviews  Installs\n",
       "0                                                TED   181893  10000000\n",
       "1  English Communication - Learn English for Chin...     2544    100000\n",
       "2                                       Khan Academy    85375   5000000\n",
       "3                        Ai La Trieu Phu - ALTP Free      776    100000\n",
       "4                             Princess Coloring Book     9770   5000000"
      ]
     },
     "execution_count": 26,
     "metadata": {},
     "output_type": "execute_result"
    }
   ],
   "source": [
    "edu = edu.drop(['rev log','ins log'], axis=1)\n",
    "edu.head()"
   ]
  },
  {
   "cell_type": "code",
   "execution_count": 27,
   "metadata": {},
   "outputs": [
    {
     "data": {
      "text/plain": [
       "array([[ 1.19505686e-01,  7.43514289e-01],\n",
       "       [-1.88514543e-01, -3.02942048e-01],\n",
       "       [-4.62576943e-02,  2.15000987e-01],\n",
       "       [-1.91550968e-01, -3.02942048e-01],\n",
       "       [-1.76104359e-01,  2.15000987e-01],\n",
       "       [-1.37331549e-01, -2.07809654e-01],\n",
       "       [-1.85885150e-01, -2.60660984e-01],\n",
       "       [-1.74659996e-01, -2.60660984e-01],\n",
       "       [-1.76875487e-01, -2.07809654e-01],\n",
       "       [-9.65957108e-02, -2.07809654e-01],\n",
       "       [-1.68348423e-01,  2.15000987e-01],\n",
       "       [ 3.57687133e-02, -2.07809654e-01],\n",
       "       [-1.88643351e-01, -2.60660984e-01],\n",
       "       [-1.30691946e-01,  2.15000987e-01],\n",
       "       [-1.92213898e-01, -2.60660984e-01],\n",
       "       [-1.91011694e-01, -2.07809654e-01],\n",
       "       [ 2.65582110e-01,  7.43514289e-01],\n",
       "       [ 3.96055638e-01,  7.43514289e-01],\n",
       "       [-1.91599056e-01, -2.07809654e-01],\n",
       "       [ 1.03614261e-01,  2.15000987e-01],\n",
       "       [-1.92778934e-01, -3.08227181e-01],\n",
       "       [-1.90103171e-01, -2.07809654e-01],\n",
       "       [-1.87442864e-01, -2.07809654e-01],\n",
       "       [-1.41609679e-01, -2.07809654e-01],\n",
       "       [-1.81315056e-01, -2.07809654e-01],\n",
       "       [-1.80853066e-01, -2.07809654e-01],\n",
       "       [-1.91356898e-01, -2.60660984e-01],\n",
       "       [-1.83023904e-01, -2.07809654e-01],\n",
       "       [-1.45530583e-01,  2.15000987e-01],\n",
       "       [-1.74246094e-01, -2.07809654e-01],\n",
       "       [-1.75901701e-01, -2.60660984e-01],\n",
       "       [-1.89570766e-01, -2.60660984e-01],\n",
       "       [-1.90280066e-01, -3.02942048e-01],\n",
       "       [ 1.76881751e-01,  7.43514289e-01],\n",
       "       [-1.92157223e-01, -3.02942048e-01],\n",
       "       [ 2.44236112e-01,  2.15000987e-01],\n",
       "       [ 1.70965187e-01,  7.43514289e-01],\n",
       "       [-2.28232953e-02, -2.07809654e-01],\n",
       "       [-3.74884718e-02,  2.15000987e-01],\n",
       "       [-1.37271439e-01, -2.07809654e-01],\n",
       "       [ 2.34606455e-01,  2.15000987e-01],\n",
       "       [ 2.33993330e-01,  2.15000987e-01],\n",
       "       [ 2.74507619e-01,  7.43514289e-01],\n",
       "       [-9.51668049e-02, -2.07809654e-01],\n",
       "       [-1.78115475e-01, -2.07809654e-01],\n",
       "       [-1.22151142e-01, -2.07809654e-01],\n",
       "       [-1.41395000e-01, -2.07809654e-01],\n",
       "       [-1.92361597e-01, -3.12455287e-01],\n",
       "       [-1.92268856e-01, -3.08227181e-01],\n",
       "       [-1.72439353e-01, -2.07809654e-01],\n",
       "       [-1.54669054e-01, -2.07809654e-01],\n",
       "       [-1.54440635e-01, -2.07809654e-01],\n",
       "       [-6.68171073e-02, -2.07809654e-01],\n",
       "       [-1.71015599e-01, -2.07809654e-01],\n",
       "       [-1.49633535e-01, -2.07809654e-01],\n",
       "       [-1.02301029e-01, -2.07809654e-01],\n",
       "       [-8.68338109e-02, -2.07809654e-01],\n",
       "       [-9.72157048e-02, -2.07809654e-01],\n",
       "       [-1.59776705e-01, -2.07809654e-01],\n",
       "       [-1.69505974e-01, -3.02942048e-01],\n",
       "       [-1.27858178e-01, -2.07809654e-01],\n",
       "       [-1.61330984e-01, -3.02942048e-01],\n",
       "       [-1.91757060e-01, -3.12455287e-01],\n",
       "       [-1.92471513e-01, -3.12455287e-01],\n",
       "       [-1.92411403e-01, -3.08227181e-01],\n",
       "       [-1.69198553e-01, -2.60660984e-01],\n",
       "       [-1.86542928e-01, -3.02942048e-01],\n",
       "       [-1.88825399e-01, -3.02942048e-01],\n",
       "       [-1.89845555e-01, -3.02942048e-01],\n",
       "       [-1.92145201e-01, -3.12455287e-01],\n",
       "       [-1.91585317e-01, -3.02942048e-01],\n",
       "       [-1.86077503e-01, -3.02942048e-01],\n",
       "       [-1.92340988e-01, -3.08227181e-01],\n",
       "       [-1.91781104e-01, -3.08227181e-01],\n",
       "       [-1.91066652e-01, -3.02942048e-01],\n",
       "       [-1.88973098e-01, -3.02942048e-01],\n",
       "       [-1.79190589e-01, -2.07809654e-01],\n",
       "       [-1.83102906e-01, -2.07809654e-01],\n",
       "       [ 5.20774750e-02,  2.15000987e-01],\n",
       "       [-9.79851156e-02,  2.15000987e-01],\n",
       "       [ 1.03387560e-01,  2.15000987e-01],\n",
       "       [-9.87717008e-02, -2.07809654e-01],\n",
       "       [-1.84614249e-01, -2.60660984e-01],\n",
       "       [-6.38837285e-02, -2.07809654e-01],\n",
       "       [-1.35098883e-01, -2.07809654e-01],\n",
       "       [ 3.46906087e-01,  7.43514289e-01],\n",
       "       [-1.76829116e-01, -2.07809654e-01],\n",
       "       [-1.86329966e-01, -2.60660984e-01],\n",
       "       [-1.10709591e-01, -2.07809654e-01],\n",
       "       [-1.65069840e-01, -2.07809654e-01],\n",
       "       [-1.92529906e-01, -3.08227181e-01],\n",
       "       [-1.44122286e-01, -2.07809654e-01],\n",
       "       [-1.87317491e-01, -3.02942048e-01],\n",
       "       [-1.91449639e-01, -3.02942048e-01],\n",
       "       [-1.88547175e-01, -3.02942048e-01],\n",
       "       [-1.91461662e-01, -3.02942048e-01],\n",
       "       [ 1.50702891e-01,  7.43514289e-01],\n",
       "       [-1.90755796e-01, -3.02942048e-01],\n",
       "       [-1.91678058e-01, -3.12455287e-01],\n",
       "       [-6.34794241e-03,  7.43514289e-01],\n",
       "       [-7.35254080e-02,  7.43514289e-01],\n",
       "       [ 6.22412546e-02,  7.43514289e-01],\n",
       "       [ 1.06106525e+01,  1.02567537e+01],\n",
       "       [-1.86276726e-01, -2.60660984e-01],\n",
       "       [ 1.70994485e+00,  7.43514289e-01],\n",
       "       [-1.68485818e-01, -2.60660984e-01],\n",
       "       [ 1.61821564e-01,  7.43514289e-01],\n",
       "       [-1.67637405e-01, -2.07809654e-01],\n",
       "       [-1.19329396e-01, -2.07809654e-01],\n",
       "       [-1.23827358e-01, -2.07809654e-01],\n",
       "       [-1.90470702e-01, -3.02942048e-01],\n",
       "       [-4.80850450e-02,  2.15000987e-01],\n",
       "       [ 2.46915310e-01, -2.07809654e-01],\n",
       "       [-1.89314868e-01, -3.02942048e-01],\n",
       "       [-1.65227844e-01, -2.07809654e-01],\n",
       "       [-1.92864806e-01, -3.13406611e-01],\n",
       "       [-1.92847631e-01, -3.13406611e-01],\n",
       "       [-1.39497234e-01, -2.60660984e-01],\n",
       "       [-1.86824587e-01, -3.02942048e-01]])"
      ]
     },
     "execution_count": 27,
     "metadata": {},
     "output_type": "execute_result"
    }
   ],
   "source": [
    "from sklearn.preprocessing import StandardScaler\n",
    "\n",
    "scaler = StandardScaler()\n",
    "\n",
    "scale = scaler.fit(edu[['Reviews', 'Installs']])\n",
    "df_scale = scale.transform(edu[['Reviews', 'Installs']])\n",
    "df_scale"
   ]
  },
  {
   "cell_type": "code",
   "execution_count": 28,
   "metadata": {},
   "outputs": [
    {
     "data": {
      "text/html": [
       "<div>\n",
       "<style scoped>\n",
       "    .dataframe tbody tr th:only-of-type {\n",
       "        vertical-align: middle;\n",
       "    }\n",
       "\n",
       "    .dataframe tbody tr th {\n",
       "        vertical-align: top;\n",
       "    }\n",
       "\n",
       "    .dataframe thead th {\n",
       "        text-align: right;\n",
       "    }\n",
       "</style>\n",
       "<table border=\"1\" class=\"dataframe\">\n",
       "  <thead>\n",
       "    <tr style=\"text-align: right;\">\n",
       "      <th></th>\n",
       "      <th>Reviews</th>\n",
       "      <th>Installs</th>\n",
       "    </tr>\n",
       "  </thead>\n",
       "  <tbody>\n",
       "    <tr>\n",
       "      <th>0</th>\n",
       "      <td>0.119506</td>\n",
       "      <td>0.743514</td>\n",
       "    </tr>\n",
       "    <tr>\n",
       "      <th>1</th>\n",
       "      <td>-0.188515</td>\n",
       "      <td>-0.302942</td>\n",
       "    </tr>\n",
       "    <tr>\n",
       "      <th>2</th>\n",
       "      <td>-0.046258</td>\n",
       "      <td>0.215001</td>\n",
       "    </tr>\n",
       "    <tr>\n",
       "      <th>3</th>\n",
       "      <td>-0.191551</td>\n",
       "      <td>-0.302942</td>\n",
       "    </tr>\n",
       "    <tr>\n",
       "      <th>4</th>\n",
       "      <td>-0.176104</td>\n",
       "      <td>0.215001</td>\n",
       "    </tr>\n",
       "  </tbody>\n",
       "</table>\n",
       "</div>"
      ],
      "text/plain": [
       "    Reviews  Installs\n",
       "0  0.119506  0.743514\n",
       "1 -0.188515 -0.302942\n",
       "2 -0.046258  0.215001\n",
       "3 -0.191551 -0.302942\n",
       "4 -0.176104  0.215001"
      ]
     },
     "execution_count": 28,
     "metadata": {},
     "output_type": "execute_result"
    }
   ],
   "source": [
    "scaled = pd.DataFrame(df_scale, columns=['Reviews','Installs'])\n",
    "scaled.head()"
   ]
  },
  {
   "cell_type": "code",
   "execution_count": 29,
   "metadata": {},
   "outputs": [
    {
     "data": {
      "text/html": [
       "<div>\n",
       "<style scoped>\n",
       "    .dataframe tbody tr th:only-of-type {\n",
       "        vertical-align: middle;\n",
       "    }\n",
       "\n",
       "    .dataframe tbody tr th {\n",
       "        vertical-align: top;\n",
       "    }\n",
       "\n",
       "    .dataframe thead th {\n",
       "        text-align: right;\n",
       "    }\n",
       "</style>\n",
       "<table border=\"1\" class=\"dataframe\">\n",
       "  <thead>\n",
       "    <tr style=\"text-align: right;\">\n",
       "      <th></th>\n",
       "      <th>App</th>\n",
       "    </tr>\n",
       "  </thead>\n",
       "  <tbody>\n",
       "    <tr>\n",
       "      <th>0</th>\n",
       "      <td>TED</td>\n",
       "    </tr>\n",
       "    <tr>\n",
       "      <th>1</th>\n",
       "      <td>English Communication - Learn English for Chin...</td>\n",
       "    </tr>\n",
       "    <tr>\n",
       "      <th>2</th>\n",
       "      <td>Khan Academy</td>\n",
       "    </tr>\n",
       "    <tr>\n",
       "      <th>3</th>\n",
       "      <td>Ai La Trieu Phu - ALTP Free</td>\n",
       "    </tr>\n",
       "    <tr>\n",
       "      <th>4</th>\n",
       "      <td>Princess Coloring Book</td>\n",
       "    </tr>\n",
       "  </tbody>\n",
       "</table>\n",
       "</div>"
      ],
      "text/plain": [
       "                                                 App\n",
       "0                                                TED\n",
       "1  English Communication - Learn English for Chin...\n",
       "2                                       Khan Academy\n",
       "3                        Ai La Trieu Phu - ALTP Free\n",
       "4                             Princess Coloring Book"
      ]
     },
     "execution_count": 29,
     "metadata": {},
     "output_type": "execute_result"
    }
   ],
   "source": [
    "edu_scaled = edu.drop(['Reviews','Installs'], axis=1)\n",
    "edu_scaled.head()"
   ]
  },
  {
   "cell_type": "code",
   "execution_count": 30,
   "metadata": {},
   "outputs": [
    {
     "data": {
      "text/html": [
       "<div>\n",
       "<style scoped>\n",
       "    .dataframe tbody tr th:only-of-type {\n",
       "        vertical-align: middle;\n",
       "    }\n",
       "\n",
       "    .dataframe tbody tr th {\n",
       "        vertical-align: top;\n",
       "    }\n",
       "\n",
       "    .dataframe thead th {\n",
       "        text-align: right;\n",
       "    }\n",
       "</style>\n",
       "<table border=\"1\" class=\"dataframe\">\n",
       "  <thead>\n",
       "    <tr style=\"text-align: right;\">\n",
       "      <th></th>\n",
       "      <th>App</th>\n",
       "      <th>Reviews</th>\n",
       "      <th>Installs</th>\n",
       "    </tr>\n",
       "  </thead>\n",
       "  <tbody>\n",
       "    <tr>\n",
       "      <th>0</th>\n",
       "      <td>TED</td>\n",
       "      <td>0.119506</td>\n",
       "      <td>0.743514</td>\n",
       "    </tr>\n",
       "    <tr>\n",
       "      <th>1</th>\n",
       "      <td>English Communication - Learn English for Chin...</td>\n",
       "      <td>-0.188515</td>\n",
       "      <td>-0.302942</td>\n",
       "    </tr>\n",
       "    <tr>\n",
       "      <th>2</th>\n",
       "      <td>Khan Academy</td>\n",
       "      <td>-0.046258</td>\n",
       "      <td>0.215001</td>\n",
       "    </tr>\n",
       "    <tr>\n",
       "      <th>3</th>\n",
       "      <td>Ai La Trieu Phu - ALTP Free</td>\n",
       "      <td>-0.191551</td>\n",
       "      <td>-0.302942</td>\n",
       "    </tr>\n",
       "    <tr>\n",
       "      <th>4</th>\n",
       "      <td>Princess Coloring Book</td>\n",
       "      <td>-0.176104</td>\n",
       "      <td>0.215001</td>\n",
       "    </tr>\n",
       "  </tbody>\n",
       "</table>\n",
       "</div>"
      ],
      "text/plain": [
       "                                                 App   Reviews  Installs\n",
       "0                                                TED  0.119506  0.743514\n",
       "1  English Communication - Learn English for Chin... -0.188515 -0.302942\n",
       "2                                       Khan Academy -0.046258  0.215001\n",
       "3                        Ai La Trieu Phu - ALTP Free -0.191551 -0.302942\n",
       "4                             Princess Coloring Book -0.176104  0.215001"
      ]
     },
     "execution_count": 30,
     "metadata": {},
     "output_type": "execute_result"
    }
   ],
   "source": [
    "edu_scaled = edu_scaled.join(scaled)\n",
    "edu_scaled.head()"
   ]
  },
  {
   "cell_type": "code",
   "execution_count": 31,
   "metadata": {},
   "outputs": [
    {
     "data": {
      "text/plain": [
       "119"
      ]
     },
     "execution_count": 31,
     "metadata": {},
     "output_type": "execute_result"
    }
   ],
   "source": [
    "len(edu)"
   ]
  },
  {
   "cell_type": "code",
   "execution_count": 32,
   "metadata": {},
   "outputs": [
    {
     "data": {
      "text/plain": [
       "119"
      ]
     },
     "execution_count": 32,
     "metadata": {},
     "output_type": "execute_result"
    }
   ],
   "source": [
    "len(edu_log)"
   ]
  },
  {
   "cell_type": "code",
   "execution_count": 33,
   "metadata": {},
   "outputs": [
    {
     "data": {
      "text/plain": [
       "119"
      ]
     },
     "execution_count": 33,
     "metadata": {},
     "output_type": "execute_result"
    }
   ],
   "source": [
    "len(edu_scaled)"
   ]
  },
  {
   "cell_type": "code",
   "execution_count": 34,
   "metadata": {},
   "outputs": [
    {
     "data": {
      "text/plain": [
       "<AxesSubplot:xlabel='Reviews', ylabel='Installs'>"
      ]
     },
     "execution_count": 34,
     "metadata": {},
     "output_type": "execute_result"
    },
    {
     "data": {
      "image/png": "[encoded data removed]",
      "text/plain": [
       "<Figure size 432x288 with 1 Axes>"
      ]
     },
     "metadata": {
      "needs_background": "light"
     },
     "output_type": "display_data"
    },
    {
     "data": {
      "image/png": "[encoded data removed]",
      "text/plain": [
       "<Figure size 432x288 with 1 Axes>"
      ]
     },
     "metadata": {
      "needs_background": "light"
     },
     "output_type": "display_data"
    },
    {
     "data": {
      "image/png": "[encoded data removed]",
      "text/plain": [
       "<Figure size 432x288 with 1 Axes>"
      ]
     },
     "metadata": {
      "needs_background": "light"
     },
     "output_type": "display_data"
    }
   ],
   "source": [
    "edu.plot.scatter(x='Reviews',y='Installs', alpha=.3)\n",
    "edu_log.plot.scatter(x='rev log',y='ins log', alpha=.3)\n",
    "edu_scaled.plot.scatter(x='Reviews',y='Installs', alpha=.3)"
   ]
  },
  {
   "cell_type": "code",
   "execution_count": 35,
   "metadata": {},
   "outputs": [],
   "source": [
    "#so the graphs above, log is easiest to understand"
   ]
  },
  {
   "cell_type": "code",
   "execution_count": 36,
   "metadata": {},
   "outputs": [
    {
     "data": {
      "text/plain": [
       "<AxesSubplot:>"
      ]
     },
     "execution_count": 36,
     "metadata": {},
     "output_type": "execute_result"
    },
    {
     "data": {
      "image/png": "[encoded data removed]",
      "text/plain": [
       "<Figure size 1008x504 with 2 Axes>"
      ]
     },
     "metadata": {
      "needs_background": "light"
     },
     "output_type": "display_data"
    }
   ],
   "source": [
    "f, ax = plt.subplots(figsize=(14,7))\n",
    "sns.heatmap(edu.corr(), ax=ax, vmin=0, cmap=\"Greens\")"
   ]
  },
  {
   "cell_type": "code",
   "execution_count": 37,
   "metadata": {},
   "outputs": [
    {
     "data": {
      "text/html": [
       "<div>\n",
       "<style scoped>\n",
       "    .dataframe tbody tr th:only-of-type {\n",
       "        vertical-align: middle;\n",
       "    }\n",
       "\n",
       "    .dataframe tbody tr th {\n",
       "        vertical-align: top;\n",
       "    }\n",
       "\n",
       "    .dataframe thead th {\n",
       "        text-align: right;\n",
       "    }\n",
       "</style>\n",
       "<table border=\"1\" class=\"dataframe\">\n",
       "  <thead>\n",
       "    <tr style=\"text-align: right;\">\n",
       "      <th></th>\n",
       "      <th>Reviews</th>\n",
       "      <th>Installs</th>\n",
       "    </tr>\n",
       "  </thead>\n",
       "  <tbody>\n",
       "    <tr>\n",
       "      <th>Reviews</th>\n",
       "      <td>1.000000</td>\n",
       "      <td>0.969867</td>\n",
       "    </tr>\n",
       "    <tr>\n",
       "      <th>Installs</th>\n",
       "      <td>0.969867</td>\n",
       "      <td>1.000000</td>\n",
       "    </tr>\n",
       "  </tbody>\n",
       "</table>\n",
       "</div>"
      ],
      "text/plain": [
       "           Reviews  Installs\n",
       "Reviews   1.000000  0.969867\n",
       "Installs  0.969867  1.000000"
      ]
     },
     "execution_count": 37,
     "metadata": {},
     "output_type": "execute_result"
    }
   ],
   "source": [
    "edu.corr()"
   ]
  },
  {
   "cell_type": "code",
   "execution_count": 38,
   "metadata": {},
   "outputs": [],
   "source": [
    "#saving dataframes for power bi\n",
    "\n",
    "#edu_log.to_csv('edu_log.csv', sep=',', index=False)\n",
    "#edu.to_csv('edu.csv', sep=',', index=False)"
   ]
  },
  {
   "cell_type": "code",
   "execution_count": 39,
   "metadata": {},
   "outputs": [],
   "source": [
    "#definitely use simple linear regression to demonstrate relationship\n",
    "#t test? ehh.... no, t test is used check difference of between two sets and if the difference is by chance\n",
    "#  we've already established there is a strong correlation between the two\n",
    "\n",
    "#yea so definitely simple linear - describe relationship, graph line of best fit"
   ]
  },
  {
   "cell_type": "code",
   "execution_count": 40,
   "metadata": {},
   "outputs": [
    {
     "data": {
      "text/html": [
       "<div>\n",
       "<style scoped>\n",
       "    .dataframe tbody tr th:only-of-type {\n",
       "        vertical-align: middle;\n",
       "    }\n",
       "\n",
       "    .dataframe tbody tr th {\n",
       "        vertical-align: top;\n",
       "    }\n",
       "\n",
       "    .dataframe thead th {\n",
       "        text-align: right;\n",
       "    }\n",
       "</style>\n",
       "<table border=\"1\" class=\"dataframe\">\n",
       "  <thead>\n",
       "    <tr style=\"text-align: right;\">\n",
       "      <th></th>\n",
       "      <th>Reviews</th>\n",
       "    </tr>\n",
       "  </thead>\n",
       "  <tbody>\n",
       "    <tr>\n",
       "      <th>69</th>\n",
       "      <td>430</td>\n",
       "    </tr>\n",
       "    <tr>\n",
       "      <th>95</th>\n",
       "      <td>828</td>\n",
       "    </tr>\n",
       "    <tr>\n",
       "      <th>35</th>\n",
       "      <td>254519</td>\n",
       "    </tr>\n",
       "    <tr>\n",
       "      <th>44</th>\n",
       "      <td>8599</td>\n",
       "    </tr>\n",
       "    <tr>\n",
       "      <th>85</th>\n",
       "      <td>314300</td>\n",
       "    </tr>\n",
       "    <tr>\n",
       "      <th>...</th>\n",
       "      <td>...</td>\n",
       "    </tr>\n",
       "    <tr>\n",
       "      <th>9</th>\n",
       "      <td>56065</td>\n",
       "    </tr>\n",
       "    <tr>\n",
       "      <th>72</th>\n",
       "      <td>316</td>\n",
       "    </tr>\n",
       "    <tr>\n",
       "      <th>12</th>\n",
       "      <td>2469</td>\n",
       "    </tr>\n",
       "    <tr>\n",
       "      <th>107</th>\n",
       "      <td>14700</td>\n",
       "    </tr>\n",
       "    <tr>\n",
       "      <th>37</th>\n",
       "      <td>99020</td>\n",
       "    </tr>\n",
       "  </tbody>\n",
       "</table>\n",
       "<p>95 rows × 1 columns</p>\n",
       "</div>"
      ],
      "text/plain": [
       "     Reviews\n",
       "69       430\n",
       "95       828\n",
       "35    254519\n",
       "44      8599\n",
       "85    314300\n",
       "..       ...\n",
       "9      56065\n",
       "72       316\n",
       "12      2469\n",
       "107    14700\n",
       "37     99020\n",
       "\n",
       "[95 rows x 1 columns]"
      ]
     },
     "execution_count": 40,
     "metadata": {},
     "output_type": "execute_result"
    }
   ],
   "source": [
    "from sklearn.model_selection import train_test_split\n",
    "\n",
    "x_train, x_test, y_train, y_test = train_test_split(edu[['Reviews']], edu['Installs'], test_size=.2, random_state=1)\n",
    "x_train"
   ]
  },
  {
   "cell_type": "code",
   "execution_count": 41,
   "metadata": {},
   "outputs": [],
   "source": [
    "from sklearn.linear_model import LinearRegression\n",
    "\n",
    "lm = LinearRegression()\n",
    "model = lm.fit(x_train, y_train)"
   ]
  },
  {
   "cell_type": "code",
   "execution_count": 42,
   "metadata": {},
   "outputs": [
    {
     "data": {
      "text/plain": [
       "1285962.9473086107"
      ]
     },
     "execution_count": 42,
     "metadata": {},
     "output_type": "execute_result"
    }
   ],
   "source": [
    "model.intercept_"
   ]
  },
  {
   "cell_type": "code",
   "execution_count": 43,
   "metadata": {},
   "outputs": [
    {
     "data": {
      "text/plain": [
       "array([15.67996695])"
      ]
     },
     "execution_count": 43,
     "metadata": {},
     "output_type": "execute_result"
    }
   ],
   "source": [
    "model.coef_"
   ]
  },
  {
   "cell_type": "code",
   "execution_count": 44,
   "metadata": {},
   "outputs": [
    {
     "data": {
      "text/plain": [
       "array([ 1325554.86385225,  1680831.55495949,  1499398.65740446,\n",
       "        1286292.22661452,  1302552.35233957,  1756048.35640893,\n",
       "        1316209.60355126,  3990882.68557005,  1291576.37547599,\n",
       "        1305390.42635715,  4422865.77498679,  1296970.28410609,\n",
       "        2624640.12549206,  1289193.02049989,  5301273.20337935,\n",
       "        2254185.22637918,  1508712.55777156, 99920904.79332016,\n",
       "        1323014.70920668,  1296249.00562648,  3522427.99303232,\n",
       "        6662905.85317464,  1361461.98816311,  1318545.9186265 ])"
      ]
     },
     "execution_count": 44,
     "metadata": {},
     "output_type": "execute_result"
    }
   ],
   "source": [
    "#  y = 15.680x + 1285962\n",
    "\n",
    "y_pred = model.predict(x_test)\n",
    "y_pred"
   ]
  },
  {
   "cell_type": "code",
   "execution_count": 45,
   "metadata": {},
   "outputs": [
    {
     "data": {
      "text/plain": [
       "0.9902627771732604"
      ]
     },
     "execution_count": 45,
     "metadata": {},
     "output_type": "execute_result"
    }
   ],
   "source": [
    "from sklearn.metrics import r2_score\n",
    "r2_score(y_test, y_pred)"
   ]
  },
  {
   "cell_type": "code",
   "execution_count": 46,
   "metadata": {},
   "outputs": [
    {
     "data": {
      "text/plain": [
       "[<matplotlib.lines.Line2D at 0x1dfb7a8c040>]"
      ]
     },
     "execution_count": 46,
     "metadata": {},
     "output_type": "execute_result"
    },
    {
     "data": {
      "image/png": "[encoded data removed]",
      "text/plain": [
       "<Figure size 432x288 with 1 Axes>"
      ]
     },
     "metadata": {
      "needs_background": "light"
     },
     "output_type": "display_data"
    }
   ],
   "source": [
    "edu.plot.scatter(x='Reviews',y='Installs', alpha=.3)\n",
    "plt.plot(x_test, y_pred, color='red')"
   ]
  },
  {
   "cell_type": "code",
   "execution_count": 47,
   "metadata": {},
   "outputs": [
    {
     "name": "stdout",
     "output_type": "stream",
     "text": [
      "2.9729082939196254\n",
      "[0.71013924]\n"
     ]
    }
   ],
   "source": [
    "#performing same steps on the edu_log to check for differences\n",
    "\n",
    "x_train, x_test, y_train, y_test = train_test_split(edu_log[['rev log']], edu_log['ins log'], test_size=.2, random_state=1)\n",
    "\n",
    "log_model = lm.fit(x_train, y_train)\n",
    "print(log_model.intercept_)\n",
    "print(log_model.coef_)"
   ]
  },
  {
   "cell_type": "code",
   "execution_count": 48,
   "metadata": {},
   "outputs": [
    {
     "data": {
      "text/plain": [
       "0.8220126709157545"
      ]
     },
     "execution_count": 48,
     "metadata": {},
     "output_type": "execute_result"
    }
   ],
   "source": [
    "#  y = .710x + 2.972908\n",
    "\n",
    "y_pred = log_model.predict(x_test)\n",
    "r2_score(y_test, y_pred)"
   ]
  },
  {
   "cell_type": "code",
   "execution_count": 49,
   "metadata": {},
   "outputs": [
    {
     "data": {
      "text/plain": [
       "Text(0, 0.5, 'Installs')"
      ]
     },
     "execution_count": 49,
     "metadata": {},
     "output_type": "execute_result"
    },
    {
     "data": {
      "image/png": "[encoded data removed]",
      "text/plain": [
       "<Figure size 432x288 with 1 Axes>"
      ]
     },
     "metadata": {
      "needs_background": "light"
     },
     "output_type": "display_data"
    }
   ],
   "source": [
    "edu_log.plot.scatter(x='rev log',y='ins log', alpha=.3)\n",
    "plt.plot(x_test, y_pred, color='red')\n",
    "plt.xlabel('Reviews')\n",
    "plt.ylabel('Installs')"
   ]
  },
  {
   "cell_type": "code",
   "execution_count": 50,
   "metadata": {},
   "outputs": [
    {
     "data": {
      "text/html": [
       "<div>\n",
       "<style scoped>\n",
       "    .dataframe tbody tr th:only-of-type {\n",
       "        vertical-align: middle;\n",
       "    }\n",
       "\n",
       "    .dataframe tbody tr th {\n",
       "        vertical-align: top;\n",
       "    }\n",
       "\n",
       "    .dataframe thead th {\n",
       "        text-align: right;\n",
       "    }\n",
       "</style>\n",
       "<table border=\"1\" class=\"dataframe\">\n",
       "  <thead>\n",
       "    <tr style=\"text-align: right;\">\n",
       "      <th></th>\n",
       "      <th>App</th>\n",
       "      <th>rev log</th>\n",
       "      <th>ins log</th>\n",
       "    </tr>\n",
       "  </thead>\n",
       "  <tbody>\n",
       "    <tr>\n",
       "      <th>0</th>\n",
       "      <td>TED</td>\n",
       "      <td>5.259816</td>\n",
       "      <td>7.00000</td>\n",
       "    </tr>\n",
       "    <tr>\n",
       "      <th>1</th>\n",
       "      <td>English Communication - Learn English for Chin...</td>\n",
       "      <td>3.405517</td>\n",
       "      <td>5.00000</td>\n",
       "    </tr>\n",
       "    <tr>\n",
       "      <th>2</th>\n",
       "      <td>Khan Academy</td>\n",
       "      <td>4.931331</td>\n",
       "      <td>6.69897</td>\n",
       "    </tr>\n",
       "    <tr>\n",
       "      <th>3</th>\n",
       "      <td>Ai La Trieu Phu - ALTP Free</td>\n",
       "      <td>2.889862</td>\n",
       "      <td>5.00000</td>\n",
       "    </tr>\n",
       "    <tr>\n",
       "      <th>4</th>\n",
       "      <td>Princess Coloring Book</td>\n",
       "      <td>3.989895</td>\n",
       "      <td>6.69897</td>\n",
       "    </tr>\n",
       "  </tbody>\n",
       "</table>\n",
       "</div>"
      ],
      "text/plain": [
       "                                                 App   rev log  ins log\n",
       "0                                                TED  5.259816  7.00000\n",
       "1  English Communication - Learn English for Chin...  3.405517  5.00000\n",
       "2                                       Khan Academy  4.931331  6.69897\n",
       "3                        Ai La Trieu Phu - ALTP Free  2.889862  5.00000\n",
       "4                             Princess Coloring Book  3.989895  6.69897"
      ]
     },
     "execution_count": 50,
     "metadata": {},
     "output_type": "execute_result"
    }
   ],
   "source": [
    "edu_log.head()"
   ]
  },
  {
   "cell_type": "code",
   "execution_count": 51,
   "metadata": {},
   "outputs": [
    {
     "data": {
      "text/html": [
       "<div>\n",
       "<style scoped>\n",
       "    .dataframe tbody tr th:only-of-type {\n",
       "        vertical-align: middle;\n",
       "    }\n",
       "\n",
       "    .dataframe tbody tr th {\n",
       "        vertical-align: top;\n",
       "    }\n",
       "\n",
       "    .dataframe thead th {\n",
       "        text-align: right;\n",
       "    }\n",
       "</style>\n",
       "<table border=\"1\" class=\"dataframe\">\n",
       "  <thead>\n",
       "    <tr style=\"text-align: right;\">\n",
       "      <th></th>\n",
       "      <th>App</th>\n",
       "      <th>rev log</th>\n",
       "      <th>ins log</th>\n",
       "    </tr>\n",
       "  </thead>\n",
       "  <tbody>\n",
       "    <tr>\n",
       "      <th>102</th>\n",
       "      <td>Duolingo: Learn Languages Free</td>\n",
       "      <td>6.798686</td>\n",
       "      <td>8.0</td>\n",
       "    </tr>\n",
       "  </tbody>\n",
       "</table>\n",
       "</div>"
      ],
      "text/plain": [
       "                                App   rev log  ins log\n",
       "102  Duolingo: Learn Languages Free  6.798686      8.0"
      ]
     },
     "execution_count": 51,
     "metadata": {},
     "output_type": "execute_result"
    }
   ],
   "source": [
    "edu_log[edu_log.App.str.contains('Duolingo')]"
   ]
  },
  {
   "cell_type": "code",
   "execution_count": 52,
   "metadata": {},
   "outputs": [],
   "source": [
    "#dropping duolingo from edu_log\n",
    "\n",
    "#edu_log = edu_log.drop([102])\n",
    "#edu_log.reset_index(drop=True)\n",
    "#edu_log.to_csv('edu_log_no-duolingo.csv', sep=',', index=False)"
   ]
  },
  {
   "cell_type": "code",
   "execution_count": 53,
   "metadata": {},
   "outputs": [
    {
     "data": {
      "text/html": [
       "<div>\n",
       "<style scoped>\n",
       "    .dataframe tbody tr th:only-of-type {\n",
       "        vertical-align: middle;\n",
       "    }\n",
       "\n",
       "    .dataframe tbody tr th {\n",
       "        vertical-align: top;\n",
       "    }\n",
       "\n",
       "    .dataframe thead th {\n",
       "        text-align: right;\n",
       "    }\n",
       "</style>\n",
       "<table border=\"1\" class=\"dataframe\">\n",
       "  <thead>\n",
       "    <tr style=\"text-align: right;\">\n",
       "      <th></th>\n",
       "      <th>App</th>\n",
       "      <th>Reviews</th>\n",
       "      <th>Installs</th>\n",
       "    </tr>\n",
       "  </thead>\n",
       "  <tbody>\n",
       "    <tr>\n",
       "      <th>102</th>\n",
       "      <td>Duolingo: Learn Languages Free</td>\n",
       "      <td>6290507</td>\n",
       "      <td>100000000</td>\n",
       "    </tr>\n",
       "  </tbody>\n",
       "</table>\n",
       "</div>"
      ],
      "text/plain": [
       "                                App  Reviews   Installs\n",
       "102  Duolingo: Learn Languages Free  6290507  100000000"
      ]
     },
     "execution_count": 53,
     "metadata": {},
     "output_type": "execute_result"
    }
   ],
   "source": [
    "#dropping duolingo from edu\n",
    "\n",
    "edu[edu.App.str.contains('Duolingo')]"
   ]
  },
  {
   "cell_type": "code",
   "execution_count": 55,
   "metadata": {},
   "outputs": [],
   "source": [
    "#edu = edu.drop([102])\n",
    "#edu.reset_index(drop=True)\n",
    "#edu.to_csv('edu_no-duolingo.csv', sep=',', index=False)"
   ]
  },
  {
   "cell_type": "code",
   "execution_count": null,
   "metadata": {},
   "outputs": [],
   "source": [
    "#ok, so i was going to add in scatter and trend lines of the data without duolingo to prove it wasnt an outlier\n",
    "#  but it created too much confusion, but removing duolingo did not change the trend lines"
   ]
  }
 ],
 "metadata": {
  "kernelspec": {
   "display_name": "Python 3",
   "language": "python",
   "name": "python3"
  },
  "language_info": {
   "codemirror_mode": {
    "name": "ipython",
    "version": 3
   },
   "file_extension": ".py",
   "mimetype": "text/x-python",
   "name": "python",
   "nbconvert_exporter": "python",
   "pygments_lexer": "ipython3",
   "version": "3.8.5"
  }
 },
 "nbformat": 4,
 "nbformat_minor": 4
}
